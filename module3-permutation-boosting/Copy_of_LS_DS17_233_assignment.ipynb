{
  "nbformat": 4,
  "nbformat_minor": 0,
  "metadata": {
    "kernelspec": {
      "display_name": "Python 3",
      "language": "python",
      "name": "python3"
    },
    "language_info": {
      "codemirror_mode": {
        "name": "ipython",
        "version": 3
      },
      "file_extension": ".py",
      "mimetype": "text/x-python",
      "name": "python",
      "nbconvert_exporter": "python",
      "pygments_lexer": "ipython3",
      "version": "3.7.3"
    },
    "colab": {
      "name": "Copy of LS_DS17_233_assignment.ipynb",
      "provenance": [],
      "include_colab_link": true
    }
  },
  "cells": [
    {
      "cell_type": "markdown",
      "metadata": {
        "id": "view-in-github",
        "colab_type": "text"
      },
      "source": [
        "<a href=\"https://colab.research.google.com/github/evan-grinalds/DS-Unit-2-Applied-Modeling/blob/master/module3-permutation-boosting/Copy_of_LS_DS17_233_assignment.ipynb\" target=\"_parent\"><img src=\"https://colab.research.google.com/assets/colab-badge.svg\" alt=\"Open In Colab\"/></a>"
      ]
    },
    {
      "cell_type": "markdown",
      "metadata": {
        "colab_type": "text",
        "id": "nCc3XZEyG3XV"
      },
      "source": [
        "Lambda School Data Science\n",
        "\n",
        "*Unit 2, Sprint 3, Module 3*\n",
        "\n",
        "---\n",
        "\n",
        "\n",
        "# Permutation & Boosting\n",
        "\n",
        "You will use your portfolio project dataset for all assignments this sprint.\n",
        "\n",
        "## Assignment\n",
        "\n",
        "Complete these tasks for your project, and document your work.\n",
        "\n",
        "- [ ] Continue to clean and explore your data. Make exploratory visualizations.\n",
        "- [ ] Fit a model. Does it beat your baseline? \n",
        "- [ ] Try xgboost.\n",
        "- [ ] Get your model's permutation importances.\n",
        "\n",
        "You should try to complete an initial model today, because the rest of the week, we're making model interpretation visualizations.\n",
        "\n",
        "But, if you aren't ready to try xgboost and permutation importances with your dataset today, that's okay. You can practice with another dataset instead. You may choose any dataset you've worked with previously.\n",
        "\n",
        "The data subdirectory includes the Titanic dataset for classification and the NYC apartments dataset for regression. You may want to choose one of these datasets, because example solutions will be available for each.\n",
        "\n",
        "\n",
        "## Reading\n",
        "\n",
        "Top recommendations in _**bold italic:**_\n",
        "\n",
        "#### Permutation Importances\n",
        "- _**[Kaggle / Dan Becker: Machine Learning Explainability](https://www.kaggle.com/dansbecker/permutation-importance)**_\n",
        "- [Christoph Molnar: Interpretable Machine Learning](https://christophm.github.io/interpretable-ml-book/feature-importance.html)\n",
        "\n",
        "#### (Default) Feature Importances\n",
        "  - [Ando Saabas: Selecting good features, Part 3, Random Forests](https://blog.datadive.net/selecting-good-features-part-iii-random-forests/)\n",
        "  - [Terence Parr, et al: Beware Default Random Forest Importances](https://explained.ai/rf-importance/index.html)\n",
        "\n",
        "#### Gradient Boosting\n",
        "  - [A Gentle Introduction to the Gradient Boosting Algorithm for Machine Learning](https://machinelearningmastery.com/gentle-introduction-gradient-boosting-algorithm-machine-learning/)\n",
        "  - [An Introduction to Statistical Learning](http://www-bcf.usc.edu/~gareth/ISL/ISLR%20Seventh%20Printing.pdf), Chapter 8\n",
        "  - _**[Gradient Boosting Explained](https://www.gormanalysis.com/blog/gradient-boosting-explained/)**_ — Ben Gorman\n",
        "  - [Gradient Boosting Explained](http://arogozhnikov.github.io/2016/06/24/gradient_boosting_explained.html) — Alex Rogozhnikov\n",
        "  - [How to explain gradient boosting](https://explained.ai/gradient-boosting/) — Terence Parr & Jeremy Howard"
      ]
    },
    {
      "cell_type": "code",
      "metadata": {
        "id": "uDrMC62kccyX",
        "colab_type": "code",
        "colab": {}
      },
      "source": [
        "%%capture\n",
        "import sys\n",
        "\n",
        "if 'google.colab' in sys.modules:\n",
        "    DATA_PATH = 'https://raw.githubusercontent.com/evan-grinalds/Unit-2-Build-Tesla/master/'\n",
        "    !pip install category_encoders==2.*\n",
        "    !pip install eli5\n",
        "\n",
        "# If you're working locally:\n",
        "else:\n",
        "    DATA_PATH = '../data/'"
      ],
      "execution_count": 1,
      "outputs": []
    },
    {
      "cell_type": "markdown",
      "metadata": {
        "id": "C_HS778H---h",
        "colab_type": "text"
      },
      "source": [
        "### Clean the data"
      ]
    },
    {
      "cell_type": "code",
      "metadata": {
        "id": "EHS9vsp3pyVq",
        "colab_type": "code",
        "colab": {
          "base_uri": "https://localhost:8080/",
          "height": 436
        },
        "outputId": "dd96baa0-c4c4-4798-8836-c6fd8806322a"
      },
      "source": [
        "import pandas as pd\n",
        "\n",
        "df = pd.read_csv(DATA_PATH+'model_s_whole.csv')\n",
        "\n",
        "print(df.shape)\n",
        "df"
      ],
      "execution_count": 2,
      "outputs": [
        {
          "output_type": "stream",
          "text": [
            "(200, 7)\n"
          ],
          "name": "stdout"
        },
        {
          "output_type": "execute_result",
          "data": {
            "text/html": [
              "<div>\n",
              "<style scoped>\n",
              "    .dataframe tbody tr th:only-of-type {\n",
              "        vertical-align: middle;\n",
              "    }\n",
              "\n",
              "    .dataframe tbody tr th {\n",
              "        vertical-align: top;\n",
              "    }\n",
              "\n",
              "    .dataframe thead th {\n",
              "        text-align: right;\n",
              "    }\n",
              "</style>\n",
              "<table border=\"1\" class=\"dataframe\">\n",
              "  <thead>\n",
              "    <tr style=\"text-align: right;\">\n",
              "      <th></th>\n",
              "      <th>year</th>\n",
              "      <th>car</th>\n",
              "      <th>battery</th>\n",
              "      <th>ludacris_mode</th>\n",
              "      <th>all_wheel_drive</th>\n",
              "      <th>mileage</th>\n",
              "      <th>price</th>\n",
              "    </tr>\n",
              "  </thead>\n",
              "  <tbody>\n",
              "    <tr>\n",
              "      <th>0</th>\n",
              "      <td>2013</td>\n",
              "      <td>Model S</td>\n",
              "      <td>60</td>\n",
              "      <td>No</td>\n",
              "      <td>No</td>\n",
              "      <td>82851 mi.</td>\n",
              "      <td>27995</td>\n",
              "    </tr>\n",
              "    <tr>\n",
              "      <th>1</th>\n",
              "      <td>2018</td>\n",
              "      <td>Model S</td>\n",
              "      <td>100</td>\n",
              "      <td>No</td>\n",
              "      <td>Yes</td>\n",
              "      <td>5357 mi.</td>\n",
              "      <td>57992</td>\n",
              "    </tr>\n",
              "    <tr>\n",
              "      <th>2</th>\n",
              "      <td>2012</td>\n",
              "      <td>Model S</td>\n",
              "      <td>60</td>\n",
              "      <td>No</td>\n",
              "      <td>No</td>\n",
              "      <td>85478 mi.</td>\n",
              "      <td>24499</td>\n",
              "    </tr>\n",
              "    <tr>\n",
              "      <th>3</th>\n",
              "      <td>2017</td>\n",
              "      <td>Model S</td>\n",
              "      <td>100</td>\n",
              "      <td>No</td>\n",
              "      <td>Yes</td>\n",
              "      <td>32593 mi.</td>\n",
              "      <td>59980</td>\n",
              "    </tr>\n",
              "    <tr>\n",
              "      <th>4</th>\n",
              "      <td>2016</td>\n",
              "      <td>Model S</td>\n",
              "      <td>60</td>\n",
              "      <td>No</td>\n",
              "      <td>Yes</td>\n",
              "      <td>28418 mi.</td>\n",
              "      <td>49560</td>\n",
              "    </tr>\n",
              "    <tr>\n",
              "      <th>...</th>\n",
              "      <td>...</td>\n",
              "      <td>...</td>\n",
              "      <td>...</td>\n",
              "      <td>...</td>\n",
              "      <td>...</td>\n",
              "      <td>...</td>\n",
              "      <td>...</td>\n",
              "    </tr>\n",
              "    <tr>\n",
              "      <th>195</th>\n",
              "      <td>2014</td>\n",
              "      <td>Model S</td>\n",
              "      <td>60</td>\n",
              "      <td>No</td>\n",
              "      <td>No</td>\n",
              "      <td>25444 mi.</td>\n",
              "      <td>39590</td>\n",
              "    </tr>\n",
              "    <tr>\n",
              "      <th>196</th>\n",
              "      <td>2016</td>\n",
              "      <td>Model S</td>\n",
              "      <td>100</td>\n",
              "      <td>Yes</td>\n",
              "      <td>Yes</td>\n",
              "      <td>33719 mi.</td>\n",
              "      <td>67990</td>\n",
              "    </tr>\n",
              "    <tr>\n",
              "      <th>197</th>\n",
              "      <td>2020</td>\n",
              "      <td>Model S</td>\n",
              "      <td>100</td>\n",
              "      <td>No</td>\n",
              "      <td>No</td>\n",
              "      <td>1527 mi.</td>\n",
              "      <td>83900</td>\n",
              "    </tr>\n",
              "    <tr>\n",
              "      <th>198</th>\n",
              "      <td>2016</td>\n",
              "      <td>Model S</td>\n",
              "      <td>75</td>\n",
              "      <td>No</td>\n",
              "      <td>No</td>\n",
              "      <td>50600 mi.</td>\n",
              "      <td>40500</td>\n",
              "    </tr>\n",
              "    <tr>\n",
              "      <th>199</th>\n",
              "      <td>2015</td>\n",
              "      <td>Model S</td>\n",
              "      <td>85</td>\n",
              "      <td>No</td>\n",
              "      <td>Yes</td>\n",
              "      <td>47759 mi.</td>\n",
              "      <td>39900</td>\n",
              "    </tr>\n",
              "  </tbody>\n",
              "</table>\n",
              "<p>200 rows × 7 columns</p>\n",
              "</div>"
            ],
            "text/plain": [
              "     year      car  battery ludacris_mode all_wheel_drive    mileage  price\n",
              "0    2013  Model S       60            No              No  82851 mi.  27995\n",
              "1    2018  Model S      100            No             Yes   5357 mi.  57992\n",
              "2    2012  Model S       60            No              No  85478 mi.  24499\n",
              "3    2017  Model S      100            No             Yes  32593 mi.  59980\n",
              "4    2016  Model S       60            No             Yes  28418 mi.  49560\n",
              "..    ...      ...      ...           ...             ...        ...    ...\n",
              "195  2014  Model S       60            No              No  25444 mi.  39590\n",
              "196  2016  Model S      100           Yes             Yes  33719 mi.  67990\n",
              "197  2020  Model S      100            No              No   1527 mi.  83900\n",
              "198  2016  Model S       75            No              No  50600 mi.  40500\n",
              "199  2015  Model S       85            No             Yes  47759 mi.  39900\n",
              "\n",
              "[200 rows x 7 columns]"
            ]
          },
          "metadata": {
            "tags": []
          },
          "execution_count": 2
        }
      ]
    },
    {
      "cell_type": "code",
      "metadata": {
        "id": "td9VdRLfgUOQ",
        "colab_type": "code",
        "colab": {}
      },
      "source": [
        "import numpy as np\n",
        "import pandas as pd\n",
        "from sklearn.model_selection import train_test_split\n",
        "\n",
        "# Read train_features.csv\n",
        "train = pd.read_csv(DATA_PATH+'model_s_train_features.csv')\n",
        "                \n",
        "# Read test_features.csv\n",
        "test = pd.read_csv(DATA_PATH+'model_s_test_features.csv')\n",
        "\n",
        "# Split train into train & val\n",
        "train, val = train_test_split(train, train_size=0.80, test_size=0.20) \n",
        "\n",
        "def wrangle(X):\n",
        "    \"\"\"Wrangle train, validate, and test sets in the same way\"\"\"\n",
        "    \n",
        "    # Prevent SettingWithCopyWarning\n",
        "    X = X.copy()\n",
        "    \n",
        "    # return the wrangled dataframe\n",
        "    return X\n",
        "\n",
        "train = wrangle(train)\n",
        "val = wrangle(val)\n",
        "test = wrangle(test)"
      ],
      "execution_count": 3,
      "outputs": []
    },
    {
      "cell_type": "code",
      "metadata": {
        "id": "AHJYaFDxm-0_",
        "colab_type": "code",
        "colab": {}
      },
      "source": [
        "# Remove symbols, convert to integer\n",
        "train['mileage'] = (\n",
        "train['mileage']\n",
        ".str.replace('mi.','')\n",
        ".astype(int)\n",
        ")\n",
        "\n",
        "val['mileage'] = (\n",
        "val['mileage']\n",
        ".str.replace('mi.','')\n",
        ".astype(int)\n",
        ")\n",
        "\n",
        "test['mileage'] = (\n",
        "test['mileage']\n",
        ".str.replace('mi.','')\n",
        ".astype(int)\n",
        ")\n",
        "\n",
        "df['mileage'] = (\n",
        "df['mileage']\n",
        ".str.replace('mi.','')\n",
        ".astype(int)\n",
        ")"
      ],
      "execution_count": 4,
      "outputs": []
    },
    {
      "cell_type": "code",
      "metadata": {
        "id": "Kd4GqR5JnONU",
        "colab_type": "code",
        "colab": {
          "base_uri": "https://localhost:8080/",
          "height": 204
        },
        "outputId": "99590240-842c-4ddc-c23a-d5c8d8c7d9bd"
      },
      "source": [
        "train.head()"
      ],
      "execution_count": 5,
      "outputs": [
        {
          "output_type": "execute_result",
          "data": {
            "text/html": [
              "<div>\n",
              "<style scoped>\n",
              "    .dataframe tbody tr th:only-of-type {\n",
              "        vertical-align: middle;\n",
              "    }\n",
              "\n",
              "    .dataframe tbody tr th {\n",
              "        vertical-align: top;\n",
              "    }\n",
              "\n",
              "    .dataframe thead th {\n",
              "        text-align: right;\n",
              "    }\n",
              "</style>\n",
              "<table border=\"1\" class=\"dataframe\">\n",
              "  <thead>\n",
              "    <tr style=\"text-align: right;\">\n",
              "      <th></th>\n",
              "      <th>year</th>\n",
              "      <th>car</th>\n",
              "      <th>battery</th>\n",
              "      <th>ludacris_mode</th>\n",
              "      <th>all_wheel_drive</th>\n",
              "      <th>mileage</th>\n",
              "      <th>price</th>\n",
              "    </tr>\n",
              "  </thead>\n",
              "  <tbody>\n",
              "    <tr>\n",
              "      <th>81</th>\n",
              "      <td>2016</td>\n",
              "      <td>Model S</td>\n",
              "      <td>90</td>\n",
              "      <td>No</td>\n",
              "      <td>Yes</td>\n",
              "      <td>26393</td>\n",
              "      <td>52999</td>\n",
              "    </tr>\n",
              "    <tr>\n",
              "      <th>45</th>\n",
              "      <td>2017</td>\n",
              "      <td>Model S</td>\n",
              "      <td>100</td>\n",
              "      <td>Yes</td>\n",
              "      <td>Yes</td>\n",
              "      <td>10028</td>\n",
              "      <td>80990</td>\n",
              "    </tr>\n",
              "    <tr>\n",
              "      <th>34</th>\n",
              "      <td>2016</td>\n",
              "      <td>Model S</td>\n",
              "      <td>60</td>\n",
              "      <td>No</td>\n",
              "      <td>No</td>\n",
              "      <td>41591</td>\n",
              "      <td>42999</td>\n",
              "    </tr>\n",
              "    <tr>\n",
              "      <th>56</th>\n",
              "      <td>2016</td>\n",
              "      <td>Model S</td>\n",
              "      <td>90</td>\n",
              "      <td>Yes</td>\n",
              "      <td>Yes</td>\n",
              "      <td>25280</td>\n",
              "      <td>63990</td>\n",
              "    </tr>\n",
              "    <tr>\n",
              "      <th>94</th>\n",
              "      <td>2016</td>\n",
              "      <td>Model S</td>\n",
              "      <td>90</td>\n",
              "      <td>No</td>\n",
              "      <td>Yes</td>\n",
              "      <td>22942</td>\n",
              "      <td>70750</td>\n",
              "    </tr>\n",
              "  </tbody>\n",
              "</table>\n",
              "</div>"
            ],
            "text/plain": [
              "    year      car  battery ludacris_mode all_wheel_drive  mileage  price\n",
              "81  2016  Model S       90            No             Yes    26393  52999\n",
              "45  2017  Model S      100           Yes             Yes    10028  80990\n",
              "34  2016  Model S       60            No              No    41591  42999\n",
              "56  2016  Model S       90           Yes             Yes    25280  63990\n",
              "94  2016  Model S       90            No             Yes    22942  70750"
            ]
          },
          "metadata": {
            "tags": []
          },
          "execution_count": 5
        }
      ]
    },
    {
      "cell_type": "markdown",
      "metadata": {
        "id": "R9SLX823XtOr",
        "colab_type": "text"
      },
      "source": [
        "### Visualizations \n"
      ]
    },
    {
      "cell_type": "code",
      "metadata": {
        "id": "rTJyj8GTXu61",
        "colab_type": "code",
        "colab": {
          "base_uri": "https://localhost:8080/",
          "height": 610
        },
        "outputId": "ee03b12f-f169-40ad-cd23-4c11fa32abcf"
      },
      "source": [
        "import plotly.express as px\n",
        "px.scatter(df, x='year', y='price', trendline='ols')"
      ],
      "execution_count": 6,
      "outputs": [
        {
          "output_type": "stream",
          "text": [
            "/usr/local/lib/python3.6/dist-packages/statsmodels/tools/_testing.py:19: FutureWarning:\n",
            "\n",
            "pandas.util.testing is deprecated. Use the functions in the public API at pandas.testing instead.\n",
            "\n"
          ],
          "name": "stderr"
        },
        {
          "output_type": "display_data",
          "data": {
            "text/html": [
              "<html>\n",
              "<head><meta charset=\"utf-8\" /></head>\n",
              "<body>\n",
              "    <div>\n",
              "            <script src=\"https://cdnjs.cloudflare.com/ajax/libs/mathjax/2.7.5/MathJax.js?config=TeX-AMS-MML_SVG\"></script><script type=\"text/javascript\">if (window.MathJax) {MathJax.Hub.Config({SVG: {font: \"STIX-Web\"}});}</script>\n",
              "                <script type=\"text/javascript\">window.PlotlyConfig = {MathJaxConfig: 'local'};</script>\n",
              "        <script src=\"https://cdn.plot.ly/plotly-latest.min.js\"></script>    \n",
              "            <div id=\"b2baf0f3-5a37-4eb9-a08c-89dbf2d86093\" class=\"plotly-graph-div\" style=\"height:525px; width:100%;\"></div>\n",
              "            <script type=\"text/javascript\">\n",
              "                \n",
              "                    window.PLOTLYENV=window.PLOTLYENV || {};\n",
              "                    \n",
              "                if (document.getElementById(\"b2baf0f3-5a37-4eb9-a08c-89dbf2d86093\")) {\n",
              "                    Plotly.newPlot(\n",
              "                        'b2baf0f3-5a37-4eb9-a08c-89dbf2d86093',\n",
              "                        [{\"hoverlabel\": {\"namelength\": 0}, \"hovertemplate\": \"year=%{x}<br>price=%{y}\", \"legendgroup\": \"\", \"marker\": {\"color\": \"#636efa\", \"symbol\": \"circle\"}, \"mode\": \"markers\", \"name\": \"\", \"showlegend\": false, \"type\": \"scatter\", \"x\": [2013, 2018, 2012, 2017, 2016, 2017, 2016, 2014, 2016, 2014, 2013, 2015, 2015, 2017, 2015, 2013, 2013, 2016, 2013, 2018, 2014, 2015, 2013, 2018, 2013, 2017, 2019, 2013, 2017, 2017, 2013, 2016, 2017, 2018, 2016, 2018, 2016, 2013, 2018, 2016, 2013, 2017, 2016, 2015, 2014, 2017, 2012, 2015, 2016, 2016, 2013, 2014, 2014, 2016, 2013, 2017, 2016, 2016, 2016, 2015, 2017, 2017, 2013, 2019, 2013, 2016, 2014, 2013, 2016, 2014, 2016, 2014, 2013, 2013, 2015, 2018, 2014, 2013, 2018, 2012, 2016, 2016, 2016, 2018, 2018, 2014, 2012, 2014, 2014, 2017, 2017, 2016, 2018, 2018, 2016, 2015, 2018, 2017, 2018, 2013, 2015, 2013, 2017, 2016, 2013, 2018, 2017, 2019, 2014, 2013, 2015, 2013, 2016, 2017, 2015, 2016, 2014, 2017, 2018, 2018, 2014, 2012, 2017, 2012, 2013, 2014, 2015, 2016, 2013, 2014, 2014, 2018, 2014, 2018, 2016, 2013, 2014, 2016, 2015, 2014, 2013, 2014, 2017, 2017, 2016, 2018, 2017, 2015, 2014, 2015, 2016, 2015, 2013, 2016, 2014, 2017, 2016, 2016, 2016, 2018, 2013, 2013, 2016, 2014, 2018, 2016, 2016, 2017, 2017, 2016, 2016, 2017, 2013, 2015, 2016, 2013, 2015, 2013, 2013, 2014, 2017, 2015, 2013, 2016, 2013, 2015, 2017, 2017, 2018, 2016, 2013, 2014, 2017, 2014, 2017, 2014, 2016, 2020, 2016, 2015], \"xaxis\": \"x\", \"y\": [27995, 57992, 24499, 59980, 49560, 58980, 37299, 32299, 46070, 41395, 35000, 44670, 44900, 77990, 34900, 33990, 32990, 67990, 35000, 92900, 34980, 51000, 36997, 59499, 34595, 45995, 88995, 31795, 42990, 46990, 25900, 53000, 66000, 56999, 42999, 63980, 49830, 35000, 58995, 70750, 25980, 55990, 42989, 38881, 29999, 80990, 33274, 45900, 27500, 39500, 28995, 36995, 34900, 44500, 28995, 48980, 63990, 73990, 43950, 38999, 74800, 56990, 38500, 69999, 32988, 64995, 35995, 33995, 59991, 39995, 38900, 29942, 35995, 34995, 49647, 55999, 38500, 29995, 66890, 34250, 35000, 52999, 38497, 58991, 89900, 35999, 38950, 39922, 41990, 58980, 52280, 65490, 57992, 46992, 70750, 28900, 54888, 77990, 54500, 32990, 44670, 32990, 45995, 44999, 33500, 55995, 58995, 79995, 29878, 34998, 49991, 29495, 42999, 49980, 40000, 49560, 39590, 59980, 58995, 50400, 49559, 30989, 80990, 33684, 38990, 33750, 43990, 49999, 28995, 33990, 30995, 55999, 40990, 58988, 48881, 36330, 34500, 49830, 35799, 41995, 33999, 37000, 47999, 62050, 39950, 54980, 48995, 40995, 44995, 49995, 73990, 33347, 25488, 35000, 37990, 59999, 38497, 46070, 63990, 89900, 31977, 36995, 61990, 40000, 92900, 46070, 65490, 62050, 58980, 49830, 49560, 48980, 32990, 51000, 61990, 34595, 43999, 31500, 38958, 43991, 47900, 47800, 30900, 70750, 29990, 42900, 55990, 84999, 52950, 73990, 34990, 28955, 52280, 33188, 80990, 39590, 67990, 83900, 40500, 39900], \"yaxis\": \"y\"}, {\"hoverlabel\": {\"namelength\": 0}, \"hovertemplate\": \"<b>OLS trendline</b><br>price = 6492.016963 * year + -13036028.246604<br>R<sup>2</sup>=0.594326<br><br>year=%{x}<br>price=%{y} <b>(trend)</b>\", \"legendgroup\": \"\", \"marker\": {\"color\": \"#636efa\", \"symbol\": \"circle\"}, \"mode\": \"lines\", \"name\": \"\", \"showlegend\": false, \"type\": \"scatter\", \"x\": [2012, 2012, 2012, 2012, 2012, 2012, 2013, 2013, 2013, 2013, 2013, 2013, 2013, 2013, 2013, 2013, 2013, 2013, 2013, 2013, 2013, 2013, 2013, 2013, 2013, 2013, 2013, 2013, 2013, 2013, 2013, 2013, 2013, 2013, 2013, 2013, 2013, 2013, 2013, 2013, 2013, 2013, 2013, 2013, 2014, 2014, 2014, 2014, 2014, 2014, 2014, 2014, 2014, 2014, 2014, 2014, 2014, 2014, 2014, 2014, 2014, 2014, 2014, 2014, 2014, 2014, 2014, 2014, 2014, 2014, 2014, 2014, 2014, 2014, 2015, 2015, 2015, 2015, 2015, 2015, 2015, 2015, 2015, 2015, 2015, 2015, 2015, 2015, 2015, 2015, 2015, 2015, 2015, 2015, 2015, 2015, 2016, 2016, 2016, 2016, 2016, 2016, 2016, 2016, 2016, 2016, 2016, 2016, 2016, 2016, 2016, 2016, 2016, 2016, 2016, 2016, 2016, 2016, 2016, 2016, 2016, 2016, 2016, 2016, 2016, 2016, 2016, 2016, 2016, 2016, 2016, 2016, 2016, 2016, 2016, 2016, 2016, 2016, 2016, 2016, 2016, 2017, 2017, 2017, 2017, 2017, 2017, 2017, 2017, 2017, 2017, 2017, 2017, 2017, 2017, 2017, 2017, 2017, 2017, 2017, 2017, 2017, 2017, 2017, 2017, 2017, 2017, 2017, 2017, 2017, 2017, 2017, 2017, 2018, 2018, 2018, 2018, 2018, 2018, 2018, 2018, 2018, 2018, 2018, 2018, 2018, 2018, 2018, 2018, 2018, 2018, 2018, 2018, 2018, 2018, 2018, 2019, 2019, 2019, 2020], \"xaxis\": \"x\", \"y\": [25909.883088912815, 25909.883088912815, 25909.883088912815, 25909.883088912815, 25909.883088912815, 25909.883088912815, 32401.900051979348, 32401.900051979348, 32401.900051979348, 32401.900051979348, 32401.900051979348, 32401.900051979348, 32401.900051979348, 32401.900051979348, 32401.900051979348, 32401.900051979348, 32401.900051979348, 32401.900051979348, 32401.900051979348, 32401.900051979348, 32401.900051979348, 32401.900051979348, 32401.900051979348, 32401.900051979348, 32401.900051979348, 32401.900051979348, 32401.900051979348, 32401.900051979348, 32401.900051979348, 32401.900051979348, 32401.900051979348, 32401.900051979348, 32401.900051979348, 32401.900051979348, 32401.900051979348, 32401.900051979348, 32401.900051979348, 32401.900051979348, 32401.900051979348, 32401.900051979348, 32401.900051979348, 32401.900051979348, 32401.900051979348, 32401.900051979348, 38893.917015047744, 38893.917015047744, 38893.917015047744, 38893.917015047744, 38893.917015047744, 38893.917015047744, 38893.917015047744, 38893.917015047744, 38893.917015047744, 38893.917015047744, 38893.917015047744, 38893.917015047744, 38893.917015047744, 38893.917015047744, 38893.917015047744, 38893.917015047744, 38893.917015047744, 38893.917015047744, 38893.917015047744, 38893.917015047744, 38893.917015047744, 38893.917015047744, 38893.917015047744, 38893.917015047744, 38893.917015047744, 38893.917015047744, 38893.917015047744, 38893.917015047744, 38893.917015047744, 38893.917015047744, 45385.93397811614, 45385.93397811614, 45385.93397811614, 45385.93397811614, 45385.93397811614, 45385.93397811614, 45385.93397811614, 45385.93397811614, 45385.93397811614, 45385.93397811614, 45385.93397811614, 45385.93397811614, 45385.93397811614, 45385.93397811614, 45385.93397811614, 45385.93397811614, 45385.93397811614, 45385.93397811614, 45385.93397811614, 45385.93397811614, 45385.93397811614, 45385.93397811614, 51877.950941184536, 51877.950941184536, 51877.950941184536, 51877.950941184536, 51877.950941184536, 51877.950941184536, 51877.950941184536, 51877.950941184536, 51877.950941184536, 51877.950941184536, 51877.950941184536, 51877.950941184536, 51877.950941184536, 51877.950941184536, 51877.950941184536, 51877.950941184536, 51877.950941184536, 51877.950941184536, 51877.950941184536, 51877.950941184536, 51877.950941184536, 51877.950941184536, 51877.950941184536, 51877.950941184536, 51877.950941184536, 51877.950941184536, 51877.950941184536, 51877.950941184536, 51877.950941184536, 51877.950941184536, 51877.950941184536, 51877.950941184536, 51877.950941184536, 51877.950941184536, 51877.950941184536, 51877.950941184536, 51877.950941184536, 51877.950941184536, 51877.950941184536, 51877.950941184536, 51877.950941184536, 51877.950941184536, 51877.950941184536, 51877.950941184536, 51877.950941184536, 58369.96790425293, 58369.96790425293, 58369.96790425293, 58369.96790425293, 58369.96790425293, 58369.96790425293, 58369.96790425293, 58369.96790425293, 58369.96790425293, 58369.96790425293, 58369.96790425293, 58369.96790425293, 58369.96790425293, 58369.96790425293, 58369.96790425293, 58369.96790425293, 58369.96790425293, 58369.96790425293, 58369.96790425293, 58369.96790425293, 58369.96790425293, 58369.96790425293, 58369.96790425293, 58369.96790425293, 58369.96790425293, 58369.96790425293, 58369.96790425293, 58369.96790425293, 58369.96790425293, 58369.96790425293, 58369.96790425293, 58369.96790425293, 64861.98486732133, 64861.98486732133, 64861.98486732133, 64861.98486732133, 64861.98486732133, 64861.98486732133, 64861.98486732133, 64861.98486732133, 64861.98486732133, 64861.98486732133, 64861.98486732133, 64861.98486732133, 64861.98486732133, 64861.98486732133, 64861.98486732133, 64861.98486732133, 64861.98486732133, 64861.98486732133, 64861.98486732133, 64861.98486732133, 64861.98486732133, 64861.98486732133, 64861.98486732133, 71354.00183038786, 71354.00183038786, 71354.00183038786, 77846.01879345626], \"yaxis\": \"y\"}],\n",
              "                        {\"legend\": {\"tracegroupgap\": 0}, \"margin\": {\"t\": 60}, \"template\": {\"data\": {\"bar\": [{\"error_x\": {\"color\": \"#2a3f5f\"}, \"error_y\": {\"color\": \"#2a3f5f\"}, \"marker\": {\"line\": {\"color\": \"#E5ECF6\", \"width\": 0.5}}, \"type\": \"bar\"}], \"barpolar\": [{\"marker\": {\"line\": {\"color\": \"#E5ECF6\", \"width\": 0.5}}, \"type\": \"barpolar\"}], \"carpet\": [{\"aaxis\": {\"endlinecolor\": \"#2a3f5f\", \"gridcolor\": \"white\", \"linecolor\": \"white\", \"minorgridcolor\": \"white\", \"startlinecolor\": \"#2a3f5f\"}, \"baxis\": {\"endlinecolor\": \"#2a3f5f\", \"gridcolor\": \"white\", \"linecolor\": \"white\", \"minorgridcolor\": \"white\", \"startlinecolor\": \"#2a3f5f\"}, \"type\": \"carpet\"}], \"choropleth\": [{\"colorbar\": {\"outlinewidth\": 0, \"ticks\": \"\"}, \"type\": \"choropleth\"}], \"contour\": [{\"colorbar\": {\"outlinewidth\": 0, \"ticks\": \"\"}, \"colorscale\": [[0.0, \"#0d0887\"], [0.1111111111111111, \"#46039f\"], [0.2222222222222222, \"#7201a8\"], [0.3333333333333333, \"#9c179e\"], [0.4444444444444444, \"#bd3786\"], [0.5555555555555556, \"#d8576b\"], [0.6666666666666666, \"#ed7953\"], [0.7777777777777778, \"#fb9f3a\"], [0.8888888888888888, \"#fdca26\"], [1.0, \"#f0f921\"]], \"type\": \"contour\"}], \"contourcarpet\": [{\"colorbar\": {\"outlinewidth\": 0, \"ticks\": \"\"}, \"type\": \"contourcarpet\"}], \"heatmap\": [{\"colorbar\": {\"outlinewidth\": 0, \"ticks\": \"\"}, \"colorscale\": [[0.0, \"#0d0887\"], [0.1111111111111111, \"#46039f\"], [0.2222222222222222, \"#7201a8\"], [0.3333333333333333, \"#9c179e\"], [0.4444444444444444, \"#bd3786\"], [0.5555555555555556, \"#d8576b\"], [0.6666666666666666, \"#ed7953\"], [0.7777777777777778, \"#fb9f3a\"], [0.8888888888888888, \"#fdca26\"], [1.0, \"#f0f921\"]], \"type\": \"heatmap\"}], \"heatmapgl\": [{\"colorbar\": {\"outlinewidth\": 0, \"ticks\": \"\"}, \"colorscale\": [[0.0, \"#0d0887\"], [0.1111111111111111, \"#46039f\"], [0.2222222222222222, \"#7201a8\"], [0.3333333333333333, \"#9c179e\"], [0.4444444444444444, \"#bd3786\"], [0.5555555555555556, \"#d8576b\"], [0.6666666666666666, \"#ed7953\"], [0.7777777777777778, \"#fb9f3a\"], [0.8888888888888888, \"#fdca26\"], [1.0, \"#f0f921\"]], \"type\": \"heatmapgl\"}], \"histogram\": [{\"marker\": {\"colorbar\": {\"outlinewidth\": 0, \"ticks\": \"\"}}, \"type\": \"histogram\"}], \"histogram2d\": [{\"colorbar\": {\"outlinewidth\": 0, \"ticks\": \"\"}, \"colorscale\": [[0.0, \"#0d0887\"], [0.1111111111111111, \"#46039f\"], [0.2222222222222222, \"#7201a8\"], [0.3333333333333333, \"#9c179e\"], [0.4444444444444444, \"#bd3786\"], [0.5555555555555556, \"#d8576b\"], [0.6666666666666666, \"#ed7953\"], [0.7777777777777778, \"#fb9f3a\"], [0.8888888888888888, \"#fdca26\"], [1.0, \"#f0f921\"]], \"type\": \"histogram2d\"}], \"histogram2dcontour\": [{\"colorbar\": {\"outlinewidth\": 0, \"ticks\": \"\"}, \"colorscale\": [[0.0, \"#0d0887\"], [0.1111111111111111, \"#46039f\"], [0.2222222222222222, \"#7201a8\"], [0.3333333333333333, \"#9c179e\"], [0.4444444444444444, \"#bd3786\"], [0.5555555555555556, \"#d8576b\"], [0.6666666666666666, \"#ed7953\"], [0.7777777777777778, \"#fb9f3a\"], [0.8888888888888888, \"#fdca26\"], [1.0, \"#f0f921\"]], \"type\": \"histogram2dcontour\"}], \"mesh3d\": [{\"colorbar\": {\"outlinewidth\": 0, \"ticks\": \"\"}, \"type\": \"mesh3d\"}], \"parcoords\": [{\"line\": {\"colorbar\": {\"outlinewidth\": 0, \"ticks\": \"\"}}, \"type\": \"parcoords\"}], \"pie\": [{\"automargin\": true, \"type\": \"pie\"}], \"scatter\": [{\"marker\": {\"colorbar\": {\"outlinewidth\": 0, \"ticks\": \"\"}}, \"type\": \"scatter\"}], \"scatter3d\": [{\"line\": {\"colorbar\": {\"outlinewidth\": 0, \"ticks\": \"\"}}, \"marker\": {\"colorbar\": {\"outlinewidth\": 0, \"ticks\": \"\"}}, \"type\": \"scatter3d\"}], \"scattercarpet\": [{\"marker\": {\"colorbar\": {\"outlinewidth\": 0, \"ticks\": \"\"}}, \"type\": \"scattercarpet\"}], \"scattergeo\": [{\"marker\": {\"colorbar\": {\"outlinewidth\": 0, \"ticks\": \"\"}}, \"type\": \"scattergeo\"}], \"scattergl\": [{\"marker\": {\"colorbar\": {\"outlinewidth\": 0, \"ticks\": \"\"}}, \"type\": \"scattergl\"}], \"scattermapbox\": [{\"marker\": {\"colorbar\": {\"outlinewidth\": 0, \"ticks\": \"\"}}, \"type\": \"scattermapbox\"}], \"scatterpolar\": [{\"marker\": {\"colorbar\": {\"outlinewidth\": 0, \"ticks\": \"\"}}, \"type\": \"scatterpolar\"}], \"scatterpolargl\": [{\"marker\": {\"colorbar\": {\"outlinewidth\": 0, \"ticks\": \"\"}}, \"type\": \"scatterpolargl\"}], \"scatterternary\": [{\"marker\": {\"colorbar\": {\"outlinewidth\": 0, \"ticks\": \"\"}}, \"type\": \"scatterternary\"}], \"surface\": [{\"colorbar\": {\"outlinewidth\": 0, \"ticks\": \"\"}, \"colorscale\": [[0.0, \"#0d0887\"], [0.1111111111111111, \"#46039f\"], [0.2222222222222222, \"#7201a8\"], [0.3333333333333333, \"#9c179e\"], [0.4444444444444444, \"#bd3786\"], [0.5555555555555556, \"#d8576b\"], [0.6666666666666666, \"#ed7953\"], [0.7777777777777778, \"#fb9f3a\"], [0.8888888888888888, \"#fdca26\"], [1.0, \"#f0f921\"]], \"type\": \"surface\"}], \"table\": [{\"cells\": {\"fill\": {\"color\": \"#EBF0F8\"}, \"line\": {\"color\": \"white\"}}, \"header\": {\"fill\": {\"color\": \"#C8D4E3\"}, \"line\": {\"color\": \"white\"}}, \"type\": \"table\"}]}, \"layout\": {\"annotationdefaults\": {\"arrowcolor\": \"#2a3f5f\", \"arrowhead\": 0, \"arrowwidth\": 1}, \"coloraxis\": {\"colorbar\": {\"outlinewidth\": 0, \"ticks\": \"\"}}, \"colorscale\": {\"diverging\": [[0, \"#8e0152\"], [0.1, \"#c51b7d\"], [0.2, \"#de77ae\"], [0.3, \"#f1b6da\"], [0.4, \"#fde0ef\"], [0.5, \"#f7f7f7\"], [0.6, \"#e6f5d0\"], [0.7, \"#b8e186\"], [0.8, \"#7fbc41\"], [0.9, \"#4d9221\"], [1, \"#276419\"]], \"sequential\": [[0.0, \"#0d0887\"], [0.1111111111111111, \"#46039f\"], [0.2222222222222222, \"#7201a8\"], [0.3333333333333333, \"#9c179e\"], [0.4444444444444444, \"#bd3786\"], [0.5555555555555556, \"#d8576b\"], [0.6666666666666666, \"#ed7953\"], [0.7777777777777778, \"#fb9f3a\"], [0.8888888888888888, \"#fdca26\"], [1.0, \"#f0f921\"]], \"sequentialminus\": [[0.0, \"#0d0887\"], [0.1111111111111111, \"#46039f\"], [0.2222222222222222, \"#7201a8\"], [0.3333333333333333, \"#9c179e\"], [0.4444444444444444, \"#bd3786\"], [0.5555555555555556, \"#d8576b\"], [0.6666666666666666, \"#ed7953\"], [0.7777777777777778, \"#fb9f3a\"], [0.8888888888888888, \"#fdca26\"], [1.0, \"#f0f921\"]]}, \"colorway\": [\"#636efa\", \"#EF553B\", \"#00cc96\", \"#ab63fa\", \"#FFA15A\", \"#19d3f3\", \"#FF6692\", \"#B6E880\", \"#FF97FF\", \"#FECB52\"], \"font\": {\"color\": \"#2a3f5f\"}, \"geo\": {\"bgcolor\": \"white\", \"lakecolor\": \"white\", \"landcolor\": \"#E5ECF6\", \"showlakes\": true, \"showland\": true, \"subunitcolor\": \"white\"}, \"hoverlabel\": {\"align\": \"left\"}, \"hovermode\": \"closest\", \"mapbox\": {\"style\": \"light\"}, \"paper_bgcolor\": \"white\", \"plot_bgcolor\": \"#E5ECF6\", \"polar\": {\"angularaxis\": {\"gridcolor\": \"white\", \"linecolor\": \"white\", \"ticks\": \"\"}, \"bgcolor\": \"#E5ECF6\", \"radialaxis\": {\"gridcolor\": \"white\", \"linecolor\": \"white\", \"ticks\": \"\"}}, \"scene\": {\"xaxis\": {\"backgroundcolor\": \"#E5ECF6\", \"gridcolor\": \"white\", \"gridwidth\": 2, \"linecolor\": \"white\", \"showbackground\": true, \"ticks\": \"\", \"zerolinecolor\": \"white\"}, \"yaxis\": {\"backgroundcolor\": \"#E5ECF6\", \"gridcolor\": \"white\", \"gridwidth\": 2, \"linecolor\": \"white\", \"showbackground\": true, \"ticks\": \"\", \"zerolinecolor\": \"white\"}, \"zaxis\": {\"backgroundcolor\": \"#E5ECF6\", \"gridcolor\": \"white\", \"gridwidth\": 2, \"linecolor\": \"white\", \"showbackground\": true, \"ticks\": \"\", \"zerolinecolor\": \"white\"}}, \"shapedefaults\": {\"line\": {\"color\": \"#2a3f5f\"}}, \"ternary\": {\"aaxis\": {\"gridcolor\": \"white\", \"linecolor\": \"white\", \"ticks\": \"\"}, \"baxis\": {\"gridcolor\": \"white\", \"linecolor\": \"white\", \"ticks\": \"\"}, \"bgcolor\": \"#E5ECF6\", \"caxis\": {\"gridcolor\": \"white\", \"linecolor\": \"white\", \"ticks\": \"\"}}, \"title\": {\"x\": 0.05}, \"xaxis\": {\"automargin\": true, \"gridcolor\": \"white\", \"linecolor\": \"white\", \"ticks\": \"\", \"title\": {\"standoff\": 15}, \"zerolinecolor\": \"white\", \"zerolinewidth\": 2}, \"yaxis\": {\"automargin\": true, \"gridcolor\": \"white\", \"linecolor\": \"white\", \"ticks\": \"\", \"title\": {\"standoff\": 15}, \"zerolinecolor\": \"white\", \"zerolinewidth\": 2}}}, \"xaxis\": {\"anchor\": \"y\", \"domain\": [0.0, 1.0], \"title\": {\"text\": \"year\"}}, \"yaxis\": {\"anchor\": \"x\", \"domain\": [0.0, 1.0], \"title\": {\"text\": \"price\"}}},\n",
              "                        {\"responsive\": true}\n",
              "                    ).then(function(){\n",
              "                            \n",
              "var gd = document.getElementById('b2baf0f3-5a37-4eb9-a08c-89dbf2d86093');\n",
              "var x = new MutationObserver(function (mutations, observer) {{\n",
              "        var display = window.getComputedStyle(gd).display;\n",
              "        if (!display || display === 'none') {{\n",
              "            console.log([gd, 'removed!']);\n",
              "            Plotly.purge(gd);\n",
              "            observer.disconnect();\n",
              "        }}\n",
              "}});\n",
              "\n",
              "// Listen for the removal of the full notebook cells\n",
              "var notebookContainer = gd.closest('#notebook-container');\n",
              "if (notebookContainer) {{\n",
              "    x.observe(notebookContainer, {childList: true});\n",
              "}}\n",
              "\n",
              "// Listen for the clearing of the current output cell\n",
              "var outputEl = gd.closest('.output');\n",
              "if (outputEl) {{\n",
              "    x.observe(outputEl, {childList: true});\n",
              "}}\n",
              "\n",
              "                        })\n",
              "                };\n",
              "                \n",
              "            </script>\n",
              "        </div>\n",
              "</body>\n",
              "</html>"
            ]
          },
          "metadata": {
            "tags": []
          }
        }
      ]
    },
    {
      "cell_type": "markdown",
      "metadata": {
        "id": "DE64v2yaDULP",
        "colab_type": "text"
      },
      "source": [
        "### Feature Selection\n"
      ]
    },
    {
      "cell_type": "code",
      "metadata": {
        "id": "2lxdzXys_5Fm",
        "colab_type": "code",
        "colab": {}
      },
      "source": [
        "# Arrange data into X features matrix and y target vector\n",
        "feature = ['year', 'battery', 'ludacris_mode', 'all_wheel_drive', 'mileage']\n",
        "target = 'price'\n",
        "X_train = train[feature]\n",
        "y_train = train[target]\n",
        "X_val = val[feature]\n",
        "y_val = val[target]\n",
        "X_test = test[feature]\n",
        "y_test = test[target]"
      ],
      "execution_count": 20,
      "outputs": []
    },
    {
      "cell_type": "code",
      "metadata": {
        "id": "QGCFt3azkrfG",
        "colab_type": "code",
        "colab": {}
      },
      "source": [
        "# Check shape before encoding\n",
        "# X_train.shape, X_val.shape, X_test.shape"
      ],
      "execution_count": 8,
      "outputs": []
    },
    {
      "cell_type": "code",
      "metadata": {
        "id": "BH6ifRNGkvEZ",
        "colab_type": "code",
        "colab": {}
      },
      "source": [
        "#import category_encoders as ce\n",
        "\n",
        "#encoder = ce.OneHotEncoder(use_cat_names=True)\n",
        "#X_train = encoder.fit_transform(X_train)\n",
        "#X_val = encoder.transform(X_val)\n",
        "#X_test = encoder.transform(X_test)"
      ],
      "execution_count": 25,
      "outputs": []
    },
    {
      "cell_type": "code",
      "metadata": {
        "id": "q7LMnXoWk7o8",
        "colab_type": "code",
        "colab": {
          "base_uri": "https://localhost:8080/",
          "height": 34
        },
        "outputId": "8c9ab532-7d3f-49cf-b11e-07b33ed4314e"
      },
      "source": [
        "# Check shape after encoding\n",
        "# X_train.shape, X_val.shape, X_test.shape"
      ],
      "execution_count": 26,
      "outputs": [
        {
          "output_type": "execute_result",
          "data": {
            "text/plain": [
              "((80, 8), (20, 8), (100, 8))"
            ]
          },
          "metadata": {
            "tags": []
          },
          "execution_count": 26
        }
      ]
    },
    {
      "cell_type": "code",
      "metadata": {
        "id": "BNBqt_hbk_jO",
        "colab_type": "code",
        "colab": {
          "base_uri": "https://localhost:8080/",
          "height": 204
        },
        "outputId": "f4aa025a-d38e-4231-9b19-1a12a7f5d537"
      },
      "source": [
        "# X_train.head()"
      ],
      "execution_count": 28,
      "outputs": [
        {
          "output_type": "execute_result",
          "data": {
            "text/html": [
              "<div>\n",
              "<style scoped>\n",
              "    .dataframe tbody tr th:only-of-type {\n",
              "        vertical-align: middle;\n",
              "    }\n",
              "\n",
              "    .dataframe tbody tr th {\n",
              "        vertical-align: top;\n",
              "    }\n",
              "\n",
              "    .dataframe thead th {\n",
              "        text-align: right;\n",
              "    }\n",
              "</style>\n",
              "<table border=\"1\" class=\"dataframe\">\n",
              "  <thead>\n",
              "    <tr style=\"text-align: right;\">\n",
              "      <th></th>\n",
              "      <th>year</th>\n",
              "      <th>car_Model S</th>\n",
              "      <th>battery</th>\n",
              "      <th>ludacris_mode_No</th>\n",
              "      <th>ludacris_mode_Yes</th>\n",
              "      <th>all_wheel_drive_Yes</th>\n",
              "      <th>all_wheel_drive_No</th>\n",
              "      <th>mileage</th>\n",
              "    </tr>\n",
              "  </thead>\n",
              "  <tbody>\n",
              "    <tr>\n",
              "      <th>43</th>\n",
              "      <td>2015</td>\n",
              "      <td>1</td>\n",
              "      <td>75</td>\n",
              "      <td>1</td>\n",
              "      <td>0</td>\n",
              "      <td>1</td>\n",
              "      <td>0</td>\n",
              "      <td>47768</td>\n",
              "    </tr>\n",
              "    <tr>\n",
              "      <th>2</th>\n",
              "      <td>2012</td>\n",
              "      <td>1</td>\n",
              "      <td>60</td>\n",
              "      <td>1</td>\n",
              "      <td>0</td>\n",
              "      <td>0</td>\n",
              "      <td>1</td>\n",
              "      <td>85478</td>\n",
              "    </tr>\n",
              "    <tr>\n",
              "      <th>73</th>\n",
              "      <td>2013</td>\n",
              "      <td>1</td>\n",
              "      <td>60</td>\n",
              "      <td>0</td>\n",
              "      <td>1</td>\n",
              "      <td>0</td>\n",
              "      <td>1</td>\n",
              "      <td>52646</td>\n",
              "    </tr>\n",
              "    <tr>\n",
              "      <th>16</th>\n",
              "      <td>2013</td>\n",
              "      <td>1</td>\n",
              "      <td>60</td>\n",
              "      <td>1</td>\n",
              "      <td>0</td>\n",
              "      <td>0</td>\n",
              "      <td>1</td>\n",
              "      <td>52876</td>\n",
              "    </tr>\n",
              "    <tr>\n",
              "      <th>35</th>\n",
              "      <td>2018</td>\n",
              "      <td>1</td>\n",
              "      <td>100</td>\n",
              "      <td>1</td>\n",
              "      <td>0</td>\n",
              "      <td>1</td>\n",
              "      <td>0</td>\n",
              "      <td>13427</td>\n",
              "    </tr>\n",
              "  </tbody>\n",
              "</table>\n",
              "</div>"
            ],
            "text/plain": [
              "    year  car_Model S  ...  all_wheel_drive_No  mileage\n",
              "43  2015            1  ...                   0    47768\n",
              "2   2012            1  ...                   1    85478\n",
              "73  2013            1  ...                   1    52646\n",
              "16  2013            1  ...                   1    52876\n",
              "35  2018            1  ...                   0    13427\n",
              "\n",
              "[5 rows x 8 columns]"
            ]
          },
          "metadata": {
            "tags": []
          },
          "execution_count": 28
        }
      ]
    },
    {
      "cell_type": "markdown",
      "metadata": {
        "id": "RZbpK9XD9m8a",
        "colab_type": "text"
      },
      "source": [
        "### Baseline"
      ]
    },
    {
      "cell_type": "code",
      "metadata": {
        "id": "9rBWr32TVzvw",
        "colab_type": "code",
        "colab": {
          "base_uri": "https://localhost:8080/",
          "height": 170
        },
        "outputId": "a2f701b8-d51c-41cc-9517-c52431147a0a"
      },
      "source": [
        "pd.options.display.float_format = '{:,.0f}'.format\n",
        "df['price'].describe()"
      ],
      "execution_count": 9,
      "outputs": [
        {
          "output_type": "execute_result",
          "data": {
            "text/plain": [
              "count      200\n",
              "mean    47,691\n",
              "std     15,380\n",
              "min     24,499\n",
              "25%     35,000\n",
              "50%     44,585\n",
              "75%     57,247\n",
              "max     92,900\n",
              "Name: price, dtype: float64"
            ]
          },
          "metadata": {
            "tags": []
          },
          "execution_count": 9
        }
      ]
    },
    {
      "cell_type": "code",
      "metadata": {
        "id": "d0AetNGx9D-g",
        "colab_type": "code",
        "colab": {}
      },
      "source": [
        "guess = df['price'].mean()"
      ],
      "execution_count": 10,
      "outputs": []
    },
    {
      "cell_type": "code",
      "metadata": {
        "id": "NTgqMLZq9GXh",
        "colab_type": "code",
        "colab": {
          "base_uri": "https://localhost:8080/",
          "height": 34
        },
        "outputId": "a2f16509-8c12-4e0b-f20c-f970f69cdf34"
      },
      "source": [
        "guess"
      ],
      "execution_count": 11,
      "outputs": [
        {
          "output_type": "execute_result",
          "data": {
            "text/plain": [
              "47690.6"
            ]
          },
          "metadata": {
            "tags": []
          },
          "execution_count": 11
        }
      ]
    },
    {
      "cell_type": "code",
      "metadata": {
        "id": "2ja0bWMk9Nn-",
        "colab_type": "code",
        "colab": {}
      },
      "source": [
        "errors = guess - df['price']"
      ],
      "execution_count": 12,
      "outputs": []
    },
    {
      "cell_type": "code",
      "metadata": {
        "id": "AgSuSpL39P7N",
        "colab_type": "code",
        "colab": {
          "base_uri": "https://localhost:8080/",
          "height": 221
        },
        "outputId": "a1d8dedf-bc9d-4718-cc2d-82ccfd925031"
      },
      "source": [
        "errors"
      ],
      "execution_count": 13,
      "outputs": [
        {
          "output_type": "execute_result",
          "data": {
            "text/plain": [
              "0      19,696\n",
              "1     -10,301\n",
              "2      23,192\n",
              "3     -12,289\n",
              "4      -1,869\n",
              "        ...  \n",
              "195     8,101\n",
              "196   -20,299\n",
              "197   -36,209\n",
              "198     7,191\n",
              "199     7,791\n",
              "Name: price, Length: 200, dtype: float64"
            ]
          },
          "metadata": {
            "tags": []
          },
          "execution_count": 13
        }
      ]
    },
    {
      "cell_type": "code",
      "metadata": {
        "id": "TJ5PwKb8OM4n",
        "colab_type": "code",
        "colab": {}
      },
      "source": [
        "mean_absolute_error = errors.abs().mean()"
      ],
      "execution_count": 14,
      "outputs": []
    },
    {
      "cell_type": "code",
      "metadata": {
        "id": "Z4W2J572OQ9T",
        "colab_type": "code",
        "colab": {
          "base_uri": "https://localhost:8080/",
          "height": 51
        },
        "outputId": "66b3a339-a4cc-4ded-8d5d-e6b9448a04d2"
      },
      "source": [
        "print(f'If we just guessed every Tesla Model S sold for ${guess:,.0f},')\n",
        "print(f'we would be off by ${mean_absolute_error:,.0f} on average.')"
      ],
      "execution_count": 15,
      "outputs": [
        {
          "output_type": "stream",
          "text": [
            "If we just guessed every Tesla Model S sold for $47,691,\n",
            "we would be off by $12,357 on average.\n"
          ],
          "name": "stdout"
        }
      ]
    },
    {
      "cell_type": "markdown",
      "metadata": {
        "id": "gwu15isY9uY-",
        "colab_type": "text"
      },
      "source": [
        "### Ridge Regression"
      ]
    },
    {
      "cell_type": "code",
      "metadata": {
        "id": "u_c5I-gnEIjk",
        "colab_type": "code",
        "colab": {
          "base_uri": "https://localhost:8080/",
          "height": 578
        },
        "outputId": "4d280ab0-ba92-44c4-c3d6-8b8748facbc7"
      },
      "source": [
        "from sklearn.model_selection import GridSearchCV, RandomizedSearchCV\n",
        "import category_encoders as ce\n",
        "import numpy as np\n",
        "from sklearn.feature_selection import f_regression, SelectKBest\n",
        "from sklearn.impute import KNNImputer\n",
        "from sklearn.linear_model import Ridge\n",
        "from sklearn.model_selection import cross_val_score\n",
        "from sklearn.pipeline import make_pipeline\n",
        "from sklearn.preprocessing import StandardScaler\n",
        "\n",
        "pipeline = make_pipeline(\n",
        "    ce.BinaryEncoder(), \n",
        "    KNNImputer(), \n",
        "    StandardScaler(), \n",
        "    SelectKBest(f_regression), \n",
        "    Ridge()\n",
        ")\n",
        "\n",
        "param_distributions = {\n",
        "    'knnimputer__n_neighbors': [3,4,5,6,7,8], \n",
        "    'selectkbest__k': range(1, len(X_train.columns)+1), \n",
        "    'ridge__alpha': [0.1, 1,8,9,10,15], \n",
        "}\n",
        "\n",
        "# If you're on Colab, decrease n_iter & cv parameters\n",
        "search = RandomizedSearchCV(\n",
        "    pipeline, \n",
        "    param_distributions=param_distributions, \n",
        "    n_iter=100, \n",
        "    cv=10, \n",
        "    scoring='neg_mean_absolute_error', \n",
        "    verbose=10, \n",
        "    return_train_score=True, \n",
        "    n_jobs=-1\n",
        ")\n",
        "\n",
        "search.fit(X_train, y_train);"
      ],
      "execution_count": 32,
      "outputs": [
        {
          "output_type": "stream",
          "text": [
            "Fitting 10 folds for each of 100 candidates, totalling 1000 fits\n"
          ],
          "name": "stdout"
        },
        {
          "output_type": "stream",
          "text": [
            "[Parallel(n_jobs=-1)]: Using backend LokyBackend with 2 concurrent workers.\n",
            "[Parallel(n_jobs=-1)]: Done   1 tasks      | elapsed:    0.1s\n",
            "[Parallel(n_jobs=-1)]: Batch computation too fast (0.0920s.) Setting batch_size=2.\n",
            "[Parallel(n_jobs=-1)]: Done   4 tasks      | elapsed:    0.2s\n",
            "[Parallel(n_jobs=-1)]: Done  14 tasks      | elapsed:    0.7s\n",
            "[Parallel(n_jobs=-1)]: Done  24 tasks      | elapsed:    1.0s\n",
            "[Parallel(n_jobs=-1)]: Done  38 tasks      | elapsed:    1.6s\n",
            "[Parallel(n_jobs=-1)]: Done  52 tasks      | elapsed:    2.2s\n",
            "[Parallel(n_jobs=-1)]: Done  70 tasks      | elapsed:    3.0s\n",
            "[Parallel(n_jobs=-1)]: Done  88 tasks      | elapsed:    3.7s\n",
            "[Parallel(n_jobs=-1)]: Done 110 tasks      | elapsed:    4.6s\n",
            "[Parallel(n_jobs=-1)]: Done 132 tasks      | elapsed:    5.5s\n",
            "[Parallel(n_jobs=-1)]: Done 158 tasks      | elapsed:    6.6s\n",
            "[Parallel(n_jobs=-1)]: Done 184 tasks      | elapsed:    7.7s\n",
            "[Parallel(n_jobs=-1)]: Done 214 tasks      | elapsed:    8.8s\n",
            "[Parallel(n_jobs=-1)]: Done 244 tasks      | elapsed:   10.1s\n",
            "[Parallel(n_jobs=-1)]: Done 278 tasks      | elapsed:   11.5s\n",
            "[Parallel(n_jobs=-1)]: Done 312 tasks      | elapsed:   12.9s\n",
            "[Parallel(n_jobs=-1)]: Done 350 tasks      | elapsed:   14.4s\n",
            "[Parallel(n_jobs=-1)]: Done 388 tasks      | elapsed:   16.0s\n",
            "[Parallel(n_jobs=-1)]: Done 430 tasks      | elapsed:   17.7s\n",
            "[Parallel(n_jobs=-1)]: Done 472 tasks      | elapsed:   19.3s\n",
            "[Parallel(n_jobs=-1)]: Done 518 tasks      | elapsed:   21.2s\n",
            "[Parallel(n_jobs=-1)]: Done 564 tasks      | elapsed:   23.1s\n",
            "[Parallel(n_jobs=-1)]: Done 614 tasks      | elapsed:   25.1s\n",
            "[Parallel(n_jobs=-1)]: Done 664 tasks      | elapsed:   27.1s\n",
            "[Parallel(n_jobs=-1)]: Done 718 tasks      | elapsed:   29.3s\n",
            "[Parallel(n_jobs=-1)]: Done 772 tasks      | elapsed:   31.5s\n",
            "[Parallel(n_jobs=-1)]: Done 830 tasks      | elapsed:   33.8s\n",
            "[Parallel(n_jobs=-1)]: Done 888 tasks      | elapsed:   36.2s\n",
            "[Parallel(n_jobs=-1)]: Done 950 tasks      | elapsed:   38.7s\n",
            "[Parallel(n_jobs=-1)]: Done 1000 out of 1000 | elapsed:   40.6s finished\n"
          ],
          "name": "stderr"
        }
      ]
    },
    {
      "cell_type": "code",
      "metadata": {
        "id": "xICR2zlvESYI",
        "colab_type": "code",
        "colab": {
          "base_uri": "https://localhost:8080/",
          "height": 51
        },
        "outputId": "c8a12bca-ab86-4a29-fb5f-aacec1e35a6d"
      },
      "source": [
        "print('Best hyperparameters', search.best_params_)\n",
        "print('Test MAE: $', -search.best_score_)"
      ],
      "execution_count": 33,
      "outputs": [
        {
          "output_type": "stream",
          "text": [
            "Best hyperparameters {'selectkbest__k': 3, 'ridge__alpha': 15, 'knnimputer__n_neighbors': 5}\n",
            "Test MAE: $ 5903.91118735083\n"
          ],
          "name": "stdout"
        }
      ]
    },
    {
      "cell_type": "markdown",
      "metadata": {
        "id": "n6EysoqYTaq6",
        "colab_type": "text"
      },
      "source": [
        "### Random Forest"
      ]
    },
    {
      "cell_type": "code",
      "metadata": {
        "id": "lw-HZ4aJTXFR",
        "colab_type": "code",
        "colab": {
          "base_uri": "https://localhost:8080/",
          "height": 782
        },
        "outputId": "47290110-0f2b-4808-bf2b-089429bf15a4"
      },
      "source": [
        "from scipy.stats import randint, uniform\n",
        "from sklearn.impute import SimpleImputer\n",
        "from sklearn.ensemble import RandomForestRegressor\n",
        "pipeline = make_pipeline(\n",
        "    ce.TargetEncoder(), \n",
        "    SimpleImputer(),\n",
        "    StandardScaler(), \n",
        "    RandomForestRegressor(random_state=42)\n",
        ")\n",
        "\n",
        "param_distributions = {\n",
        "    'targetencoder__min_samples_leaf': randint(1, 1000),     \n",
        "    'simpleimputer__strategy': ['mean', 'median'], \n",
        "    'randomforestregressor__n_estimators': randint(50, 500), \n",
        "    'randomforestregressor__max_depth': [5, 10, 15, 20, None], \n",
        "    'randomforestregressor__max_features': uniform(0, 1), \n",
        "}\n",
        "\n",
        "# If you're on Colab, decrease n_iter & cv parameters\n",
        "search = RandomizedSearchCV(\n",
        "    pipeline, \n",
        "    param_distributions=param_distributions, \n",
        "    n_iter=100, \n",
        "    cv=10, \n",
        "    scoring='neg_mean_absolute_error', \n",
        "    verbose=10, \n",
        "    return_train_score=True, \n",
        "    n_jobs=-1\n",
        ")\n",
        "\n",
        "search.fit(X_train, y_train);"
      ],
      "execution_count": 39,
      "outputs": [
        {
          "output_type": "stream",
          "text": [
            "Fitting 10 folds for each of 100 candidates, totalling 1000 fits\n"
          ],
          "name": "stdout"
        },
        {
          "output_type": "stream",
          "text": [
            "[Parallel(n_jobs=-1)]: Using backend LokyBackend with 2 concurrent workers.\n",
            "[Parallel(n_jobs=-1)]: Done   1 tasks      | elapsed:    0.4s\n",
            "[Parallel(n_jobs=-1)]: Done   4 tasks      | elapsed:    0.8s\n",
            "[Parallel(n_jobs=-1)]: Done   9 tasks      | elapsed:    1.9s\n",
            "[Parallel(n_jobs=-1)]: Done  14 tasks      | elapsed:    3.0s\n",
            "[Parallel(n_jobs=-1)]: Done  21 tasks      | elapsed:    4.7s\n",
            "[Parallel(n_jobs=-1)]: Done  28 tasks      | elapsed:    6.0s\n",
            "[Parallel(n_jobs=-1)]: Done  37 tasks      | elapsed:   10.7s\n",
            "[Parallel(n_jobs=-1)]: Done  46 tasks      | elapsed:   13.1s\n",
            "[Parallel(n_jobs=-1)]: Done  57 tasks      | elapsed:   18.0s\n",
            "[Parallel(n_jobs=-1)]: Done  68 tasks      | elapsed:   21.2s\n",
            "[Parallel(n_jobs=-1)]: Done  81 tasks      | elapsed:   24.1s\n",
            "[Parallel(n_jobs=-1)]: Done  94 tasks      | elapsed:   28.3s\n",
            "[Parallel(n_jobs=-1)]: Done 109 tasks      | elapsed:   33.8s\n",
            "[Parallel(n_jobs=-1)]: Done 124 tasks      | elapsed:   38.9s\n",
            "[Parallel(n_jobs=-1)]: Done 141 tasks      | elapsed:   47.3s\n",
            "[Parallel(n_jobs=-1)]: Done 158 tasks      | elapsed:   50.4s\n",
            "[Parallel(n_jobs=-1)]: Done 177 tasks      | elapsed:   59.0s\n",
            "[Parallel(n_jobs=-1)]: Done 196 tasks      | elapsed:  1.1min\n",
            "[Parallel(n_jobs=-1)]: Done 217 tasks      | elapsed:  1.2min\n",
            "[Parallel(n_jobs=-1)]: Done 238 tasks      | elapsed:  1.3min\n",
            "[Parallel(n_jobs=-1)]: Done 261 tasks      | elapsed:  1.4min\n",
            "[Parallel(n_jobs=-1)]: Done 284 tasks      | elapsed:  1.5min\n",
            "[Parallel(n_jobs=-1)]: Done 309 tasks      | elapsed:  1.8min\n",
            "[Parallel(n_jobs=-1)]: Done 334 tasks      | elapsed:  1.9min\n",
            "[Parallel(n_jobs=-1)]: Done 361 tasks      | elapsed:  2.1min\n",
            "[Parallel(n_jobs=-1)]: Done 388 tasks      | elapsed:  2.2min\n",
            "[Parallel(n_jobs=-1)]: Done 417 tasks      | elapsed:  2.4min\n",
            "[Parallel(n_jobs=-1)]: Done 446 tasks      | elapsed:  2.6min\n",
            "[Parallel(n_jobs=-1)]: Done 477 tasks      | elapsed:  2.9min\n",
            "[Parallel(n_jobs=-1)]: Done 508 tasks      | elapsed:  3.1min\n",
            "[Parallel(n_jobs=-1)]: Done 541 tasks      | elapsed:  3.2min\n",
            "[Parallel(n_jobs=-1)]: Done 574 tasks      | elapsed:  3.5min\n",
            "[Parallel(n_jobs=-1)]: Done 609 tasks      | elapsed:  3.6min\n",
            "[Parallel(n_jobs=-1)]: Done 644 tasks      | elapsed:  3.8min\n",
            "[Parallel(n_jobs=-1)]: Done 681 tasks      | elapsed:  4.1min\n",
            "[Parallel(n_jobs=-1)]: Done 718 tasks      | elapsed:  4.3min\n",
            "[Parallel(n_jobs=-1)]: Done 757 tasks      | elapsed:  4.5min\n",
            "[Parallel(n_jobs=-1)]: Done 796 tasks      | elapsed:  4.7min\n",
            "[Parallel(n_jobs=-1)]: Done 837 tasks      | elapsed:  4.9min\n",
            "[Parallel(n_jobs=-1)]: Done 878 tasks      | elapsed:  5.2min\n",
            "[Parallel(n_jobs=-1)]: Done 921 tasks      | elapsed:  5.5min\n",
            "[Parallel(n_jobs=-1)]: Done 964 tasks      | elapsed:  5.7min\n",
            "[Parallel(n_jobs=-1)]: Done 1000 out of 1000 | elapsed:  5.9min finished\n"
          ],
          "name": "stderr"
        }
      ]
    },
    {
      "cell_type": "code",
      "metadata": {
        "id": "uC0sVhaVTjOo",
        "colab_type": "code",
        "colab": {
          "base_uri": "https://localhost:8080/",
          "height": 71
        },
        "outputId": "910beb53-2cd6-42b4-f527-2eec987bf533"
      },
      "source": [
        "print('Best hyperparameters', search.best_params_)\n",
        "print('Test MAE: $', -search.best_score_)"
      ],
      "execution_count": 30,
      "outputs": [
        {
          "output_type": "stream",
          "text": [
            "Best hyperparameters {'randomforestregressor__max_depth': 15, 'randomforestregressor__max_features': 0.10518974220176058, 'randomforestregressor__n_estimators': 491, 'simpleimputer__strategy': 'mean', 'targetencoder__min_samples_leaf': 37}\n",
            "Test MAE: $ 4262.760692464359\n"
          ],
          "name": "stdout"
        }
      ]
    },
    {
      "cell_type": "markdown",
      "metadata": {
        "id": "iD38YgYPUIhC",
        "colab_type": "text"
      },
      "source": [
        "### Gradient Boosting"
      ]
    },
    {
      "cell_type": "code",
      "metadata": {
        "id": "-ElgnNAGUGvD",
        "colab_type": "code",
        "colab": {}
      },
      "source": [
        "from sklearn.ensemble import GradientBoostingRegressor\n",
        "\n",
        "\n",
        "pipeline = make_pipeline(\n",
        "    ce.TargetEncoder(), \n",
        "    SimpleImputer(),\n",
        "    StandardScaler(), \n",
        "    GradientBoostingRegressor(random_state=42)\n",
        ")\n",
        "param_distributions = {\n",
        "    'targetencoder__min_samples_leaf': randint(1, 1000),     \n",
        "    'simpleimputer__strategy': ['mean', 'median'], \n",
        "    'gradientboostingregressor__max_depth': [5, 10, 15, 20, None], \n",
        "    'gradientboostingregressor__loss': ['ls','lad','huber','quantile'], \n",
        "}\n",
        "\n",
        "# If you're on Colab, decrease n_iter & cv parameters\n",
        "search = RandomizedSearchCV(\n",
        "    pipeline, \n",
        "    param_distributions=param_distributions, \n",
        "    n_iter=100, \n",
        "    cv=10, \n",
        "    scoring='neg_mean_absolute_error', \n",
        "    verbose=10, \n",
        "    return_train_score=True, \n",
        "    n_jobs=-1\n",
        ")\n",
        "search.fit(X_train, y_train);"
      ],
      "execution_count": null,
      "outputs": []
    },
    {
      "cell_type": "code",
      "metadata": {
        "id": "7n0h_gXnVj7i",
        "colab_type": "code",
        "colab": {}
      },
      "source": [
        "print('Best hyperparameters', search.best_params_)\n",
        "print('Test MAE: $', -search.best_score_)"
      ],
      "execution_count": null,
      "outputs": []
    },
    {
      "cell_type": "markdown",
      "metadata": {
        "id": "g4qb3ZXMURHV",
        "colab_type": "text"
      },
      "source": [
        "### XG Boost"
      ]
    },
    {
      "cell_type": "code",
      "metadata": {
        "id": "sPjUub__UTKP",
        "colab_type": "code",
        "colab": {
          "base_uri": "https://localhost:8080/",
          "height": 819
        },
        "outputId": "46309ce8-2473-42f5-e793-008e7b66e317"
      },
      "source": [
        "from xgboost import XGBRegressor\n",
        "pipeline = make_pipeline(\n",
        "    ce.TargetEncoder(), \n",
        "    SimpleImputer(),\n",
        "    StandardScaler(), \n",
        "    XGBRegressor(random_state=42,n_jobs=-1)\n",
        ")\n",
        "param_distributions = {\n",
        "    'targetencoder__min_samples_leaf': randint(1, 1000),     \n",
        "    'simpleimputer__strategy': ['mean', 'median'],\n",
        "    'xgbregressor__learning_rate': [.03, 0.05, .07 ,0.13,0.2],\n",
        "    'xgbregressor__max_depth': [5, 6, 7],}\n",
        "\n",
        "# If you're on Colab, decrease n_iter & cv parameters\n",
        "search = RandomizedSearchCV(\n",
        "    pipeline, \n",
        "    param_distributions=param_distributions, \n",
        "    n_iter=100, \n",
        "    cv=10, \n",
        "    scoring='neg_mean_absolute_error', \n",
        "    verbose=10, \n",
        "    return_train_score=True, \n",
        "    n_jobs=-1\n",
        ")\n",
        "search.fit(X_train, y_train);"
      ],
      "execution_count": 35,
      "outputs": [
        {
          "output_type": "stream",
          "text": [
            "Fitting 10 folds for each of 100 candidates, totalling 1000 fits\n"
          ],
          "name": "stdout"
        },
        {
          "output_type": "stream",
          "text": [
            "[Parallel(n_jobs=-1)]: Using backend LokyBackend with 2 concurrent workers.\n",
            "[Parallel(n_jobs=-1)]: Done   1 tasks      | elapsed:    1.3s\n",
            "[Parallel(n_jobs=-1)]: Done   4 tasks      | elapsed:    1.5s\n",
            "[Parallel(n_jobs=-1)]: Done   9 tasks      | elapsed:    1.8s\n",
            "[Parallel(n_jobs=-1)]: Done  14 tasks      | elapsed:    2.1s\n",
            "[Parallel(n_jobs=-1)]: Done  21 tasks      | elapsed:    2.5s\n",
            "[Parallel(n_jobs=-1)]: Done  28 tasks      | elapsed:    2.9s\n",
            "[Parallel(n_jobs=-1)]: Done  37 tasks      | elapsed:    3.4s\n",
            "[Parallel(n_jobs=-1)]: Done  46 tasks      | elapsed:    3.9s\n",
            "[Parallel(n_jobs=-1)]: Done  57 tasks      | elapsed:    4.6s\n",
            "[Parallel(n_jobs=-1)]: Done  68 tasks      | elapsed:    5.2s\n",
            "[Parallel(n_jobs=-1)]: Done  81 tasks      | elapsed:    5.9s\n",
            "[Parallel(n_jobs=-1)]: Done  94 tasks      | elapsed:    6.7s\n",
            "[Parallel(n_jobs=-1)]: Done 109 tasks      | elapsed:    7.6s\n",
            "[Parallel(n_jobs=-1)]: Done 124 tasks      | elapsed:    8.4s\n",
            "[Parallel(n_jobs=-1)]: Done 141 tasks      | elapsed:    9.3s\n",
            "[Parallel(n_jobs=-1)]: Done 158 tasks      | elapsed:   10.3s\n",
            "[Parallel(n_jobs=-1)]: Done 177 tasks      | elapsed:   11.4s\n",
            "[Parallel(n_jobs=-1)]: Done 196 tasks      | elapsed:   12.5s\n",
            "[Parallel(n_jobs=-1)]: Done 217 tasks      | elapsed:   13.7s\n",
            "[Parallel(n_jobs=-1)]: Done 238 tasks      | elapsed:   14.9s\n",
            "[Parallel(n_jobs=-1)]: Done 261 tasks      | elapsed:   16.2s\n",
            "[Parallel(n_jobs=-1)]: Done 284 tasks      | elapsed:   17.5s\n",
            "[Parallel(n_jobs=-1)]: Done 309 tasks      | elapsed:   18.9s\n",
            "[Parallel(n_jobs=-1)]: Done 334 tasks      | elapsed:   20.4s\n",
            "[Parallel(n_jobs=-1)]: Done 361 tasks      | elapsed:   21.9s\n",
            "[Parallel(n_jobs=-1)]: Done 388 tasks      | elapsed:   23.5s\n",
            "[Parallel(n_jobs=-1)]: Done 417 tasks      | elapsed:   25.2s\n",
            "[Parallel(n_jobs=-1)]: Done 446 tasks      | elapsed:   26.8s\n",
            "[Parallel(n_jobs=-1)]: Done 477 tasks      | elapsed:   28.6s\n",
            "[Parallel(n_jobs=-1)]: Done 508 tasks      | elapsed:   30.4s\n",
            "[Parallel(n_jobs=-1)]: Done 541 tasks      | elapsed:   32.2s\n",
            "[Parallel(n_jobs=-1)]: Done 574 tasks      | elapsed:   34.1s\n",
            "[Parallel(n_jobs=-1)]: Done 609 tasks      | elapsed:   36.1s\n",
            "[Parallel(n_jobs=-1)]: Done 644 tasks      | elapsed:   38.1s\n",
            "[Parallel(n_jobs=-1)]: Done 681 tasks      | elapsed:   40.3s\n",
            "[Parallel(n_jobs=-1)]: Done 718 tasks      | elapsed:   42.4s\n",
            "[Parallel(n_jobs=-1)]: Done 757 tasks      | elapsed:   44.6s\n",
            "[Parallel(n_jobs=-1)]: Done 796 tasks      | elapsed:   46.8s\n",
            "[Parallel(n_jobs=-1)]: Done 837 tasks      | elapsed:   49.1s\n",
            "[Parallel(n_jobs=-1)]: Done 878 tasks      | elapsed:   52.9s\n",
            "[Parallel(n_jobs=-1)]: Done 921 tasks      | elapsed:   57.8s\n",
            "[Parallel(n_jobs=-1)]: Done 964 tasks      | elapsed:  1.0min\n"
          ],
          "name": "stderr"
        },
        {
          "output_type": "stream",
          "text": [
            "[16:41:42] WARNING: /workspace/src/objective/regression_obj.cu:152: reg:linear is now deprecated in favor of reg:squarederror.\n"
          ],
          "name": "stdout"
        },
        {
          "output_type": "stream",
          "text": [
            "[Parallel(n_jobs=-1)]: Done 1000 out of 1000 | elapsed:  1.0min finished\n"
          ],
          "name": "stderr"
        }
      ]
    },
    {
      "cell_type": "code",
      "metadata": {
        "id": "ZrazwRDjVdDb",
        "colab_type": "code",
        "colab": {
          "base_uri": "https://localhost:8080/",
          "height": 71
        },
        "outputId": "8114ecc6-7f2d-43e5-ba74-92c0b1f723b6"
      },
      "source": [
        "print('Best hyperparameters', search.best_params_)\n",
        "print('Test MAE: $', -search.best_score_)"
      ],
      "execution_count": 36,
      "outputs": [
        {
          "output_type": "stream",
          "text": [
            "Best hyperparameters {'simpleimputer__strategy': 'mean', 'targetencoder__min_samples_leaf': 32, 'xgbregressor__learning_rate': 0.13, 'xgbregressor__max_depth': 7}\n",
            "Test MAE: $ 4625.539697265625\n"
          ],
          "name": "stdout"
        }
      ]
    },
    {
      "cell_type": "markdown",
      "metadata": {
        "id": "nN3d3BY3Y-ZK",
        "colab_type": "text"
      },
      "source": [
        "### Permutation Importances"
      ]
    },
    {
      "cell_type": "code",
      "metadata": {
        "id": "X9yfJizHY_yS",
        "colab_type": "code",
        "colab": {
          "base_uri": "https://localhost:8080/",
          "height": 254
        },
        "outputId": "00ad543a-15c1-4178-be57-4fff9c57b481"
      },
      "source": [
        "from sklearn.ensemble import RandomForestClassifier\n",
        "# Get feature importances\n",
        "rf = pipeline.named_steps['randomforestclassifier']\n",
        "importances = pd.Series(rf.feature_importances_, X_train.columns)\n",
        "\n",
        "# Plot feature importances\n",
        "%matplotlib inline\n",
        "import matplotlib.pyplot as plt\n",
        "\n",
        "n = 7\n",
        "plt.figure(figsize=(10,n/2))\n",
        "plt.title(f'Top {n} features')\n",
        "importances.sort_values()[-n:].plot.barh(color='grey');"
      ],
      "execution_count": 55,
      "outputs": [
        {
          "output_type": "display_data",
          "data": {
            "image/png": "[encoded data removed]",
            "text/plain": [
              "<Figure size 720x252 with 1 Axes>"
            ]
          },
          "metadata": {
            "tags": [],
            "needs_background": "light"
          }
        }
      ]
    },
    {
      "cell_type": "markdown",
      "metadata": {
        "id": "5iX5UdNVaR05",
        "colab_type": "text"
      },
      "source": [
        "### eli5 Library"
      ]
    },
    {
      "cell_type": "code",
      "metadata": {
        "id": "GEwRNL-qaZsX",
        "colab_type": "code",
        "colab": {
          "base_uri": "https://localhost:8080/",
          "height": 119
        },
        "outputId": "a1586deb-8cea-49e4-bb4f-6877b15553c9"
      },
      "source": [
        "import eli5\n",
        "from eli5.sklearn import PermutationImportance\n",
        "\n",
        "# Ignore warnings\n",
        "\n",
        "transformers = make_pipeline(\n",
        "    ce.OrdinalEncoder(), \n",
        "    SimpleImputer(strategy='median')\n",
        ")\n",
        "\n",
        "X_train_transformed = transformers.fit_transform(X_train)\n",
        "X_val_transformed = transformers.transform(X_val)\n",
        "\n",
        "model = RandomForestClassifier(n_estimators=20, random_state=42, n_jobs=-1)\n",
        "model.fit(X_train_transformed, y_train)\n",
        "\n",
        "\n",
        "\n",
        "feature_names = X_val.columns.tolist()\n",
        "\n",
        "permuter = PermutationImportance(\n",
        "    model,\n",
        "    scoring='accuracy',\n",
        "    n_iter=5,\n",
        "    random_state=42\n",
        ")\n",
        "\n",
        "permuter.fit(X_val_transformed, y_val)\n",
        "\n",
        "eli5.show_weights(\n",
        "    permuter,\n",
        "    top=None,\n",
        "    feature_names=feature_names\n",
        ")"
      ],
      "execution_count": 60,
      "outputs": [
        {
          "output_type": "execute_result",
          "data": {
            "text/html": [
              "\n",
              "    <style>\n",
              "    table.eli5-weights tr:hover {\n",
              "        filter: brightness(85%);\n",
              "    }\n",
              "</style>\n",
              "\n",
              "\n",
              "\n",
              "    \n",
              "\n",
              "    \n",
              "\n",
              "    \n",
              "\n",
              "    \n",
              "\n",
              "    \n",
              "\n",
              "    \n",
              "\n",
              "\n",
              "    \n",
              "\n",
              "    \n",
              "\n",
              "    \n",
              "\n",
              "    \n",
              "\n",
              "    \n",
              "\n",
              "    \n",
              "\n",
              "\n",
              "    \n",
              "\n",
              "    \n",
              "\n",
              "    \n",
              "\n",
              "    \n",
              "\n",
              "    \n",
              "        <table class=\"eli5-weights eli5-feature-importances\" style=\"border-collapse: collapse; border: none; margin-top: 0em; table-layout: auto;\">\n",
              "    <thead>\n",
              "    <tr style=\"border: none;\">\n",
              "        <th style=\"padding: 0 1em 0 0.5em; text-align: right; border: none;\">Weight</th>\n",
              "        <th style=\"padding: 0 0.5em 0 0.5em; text-align: left; border: none;\">Feature</th>\n",
              "    </tr>\n",
              "    </thead>\n",
              "    <tbody>\n",
              "    \n",
              "        <tr style=\"background-color: hsl(120, 100.00%, 80.00%); border: none;\">\n",
              "            <td style=\"padding: 0 1em 0 0.5em; text-align: right; border: none;\">\n",
              "                0.0700\n",
              "                \n",
              "                    &plusmn; 0.0490\n",
              "                \n",
              "            </td>\n",
              "            <td style=\"padding: 0 0.5em 0 0.5em; text-align: left; border: none;\">\n",
              "                battery\n",
              "            </td>\n",
              "        </tr>\n",
              "    \n",
              "        <tr style=\"background-color: hsl(120, 100.00%, 86.48%); border: none;\">\n",
              "            <td style=\"padding: 0 1em 0 0.5em; text-align: right; border: none;\">\n",
              "                0.0400\n",
              "                \n",
              "                    &plusmn; 0.0748\n",
              "                \n",
              "            </td>\n",
              "            <td style=\"padding: 0 0.5em 0 0.5em; text-align: left; border: none;\">\n",
              "                year\n",
              "            </td>\n",
              "        </tr>\n",
              "    \n",
              "        <tr style=\"background-color: hsl(120, 100.00%, 88.95%); border: none;\">\n",
              "            <td style=\"padding: 0 1em 0 0.5em; text-align: right; border: none;\">\n",
              "                0.0300\n",
              "                \n",
              "                    &plusmn; 0.0490\n",
              "                \n",
              "            </td>\n",
              "            <td style=\"padding: 0 0.5em 0 0.5em; text-align: left; border: none;\">\n",
              "                ludacris_mode\n",
              "            </td>\n",
              "        </tr>\n",
              "    \n",
              "        <tr style=\"background-color: hsl(120, 100.00%, 91.68%); border: none;\">\n",
              "            <td style=\"padding: 0 1em 0 0.5em; text-align: right; border: none;\">\n",
              "                0.0200\n",
              "                \n",
              "                    &plusmn; 0.0800\n",
              "                \n",
              "            </td>\n",
              "            <td style=\"padding: 0 0.5em 0 0.5em; text-align: left; border: none;\">\n",
              "                mileage\n",
              "            </td>\n",
              "        </tr>\n",
              "    \n",
              "        <tr style=\"background-color: hsl(0, 100.00%, 100.00%); border: none;\">\n",
              "            <td style=\"padding: 0 1em 0 0.5em; text-align: right; border: none;\">\n",
              "                0\n",
              "                \n",
              "                    &plusmn; 0.0000\n",
              "                \n",
              "            </td>\n",
              "            <td style=\"padding: 0 0.5em 0 0.5em; text-align: left; border: none;\">\n",
              "                all_wheel_drive\n",
              "            </td>\n",
              "        </tr>\n",
              "    \n",
              "    \n",
              "    </tbody>\n",
              "</table>\n",
              "    \n",
              "\n",
              "    \n",
              "\n",
              "\n",
              "    \n",
              "\n",
              "    \n",
              "\n",
              "    \n",
              "\n",
              "    \n",
              "\n",
              "    \n",
              "\n",
              "    \n",
              "\n",
              "\n",
              "\n"
            ],
            "text/plain": [
              "<IPython.core.display.HTML object>"
            ]
          },
          "metadata": {
            "tags": []
          },
          "execution_count": 60
        }
      ]
    },
    {
      "cell_type": "code",
      "metadata": {
        "id": "U4VkWNn4YL1E",
        "colab_type": "code",
        "colab": {}
      },
      "source": [
        ""
      ],
      "execution_count": null,
      "outputs": []
    }
  ]
}