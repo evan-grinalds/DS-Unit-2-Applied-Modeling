{
  "nbformat": 4,
  "nbformat_minor": 0,
  "metadata": {
    "jupytext": {
      "cell_metadata_filter": "-all",
      "main_language": "python",
      "notebook_metadata_filter": "-all"
    },
    "kernelspec": {
      "display_name": "Python 3",
      "language": "python",
      "name": "python3"
    },
    "language_info": {
      "codemirror_mode": {
        "name": "ipython",
        "version": 3
      },
      "file_extension": ".py",
      "mimetype": "text/x-python",
      "name": "python",
      "nbconvert_exporter": "python",
      "pygments_lexer": "ipython3",
      "version": "3.7.3"
    },
    "colab": {
      "name": "Copy of LS_DS17_232_assignment.ipynb",
      "provenance": [],
      "include_colab_link": true
    }
  },
  "cells": [
    {
      "cell_type": "markdown",
      "metadata": {
        "id": "view-in-github",
        "colab_type": "text"
      },
      "source": [
        "<a href=\"https://colab.research.google.com/github/evan-grinalds/DS-Unit-2-Applied-Modeling/blob/master/module2-wrangle-ml-datasets/Copy_of_LS_DS17_232_assignment.ipynb\" target=\"_parent\"><img src=\"https://colab.research.google.com/assets/colab-badge.svg\" alt=\"Open In Colab\"/></a>"
      ]
    },
    {
      "cell_type": "markdown",
      "metadata": {
        "id": "7-z34Ca3wL9P",
        "colab_type": "text"
      },
      "source": [
        "Lambda School Data Science\n",
        "\n",
        "*Unit 2, Sprint 3, Module 2*\n",
        "\n",
        "---\n",
        "\n",
        "\n",
        "# Wrangle ML datasets\n",
        "\n",
        "- [ ] Continue to clean and explore your data. \n",
        "- [ ] For the evaluation metric you chose, what score would you get just by guessing?\n",
        "- [ ] Can you make a fast, first model that beats guessing?\n",
        "\n",
        "**We recommend that you use your portfolio project dataset for all assignments this sprint.**\n",
        "\n",
        "**But if you aren't ready yet, or you want more practice, then use the New York City property sales dataset for today's assignment.** Follow the instructions below, to just keep a subset for the Tribeca neighborhood, and remove outliers or dirty data. [Here's a video walkthrough](https://youtu.be/pPWFw8UtBVg?t=584) you can refer to if you get stuck or want hints!\n",
        "\n",
        "- Data Source: [NYC OpenData: NYC Citywide Rolling Calendar Sales](https://data.cityofnewyork.us/dataset/NYC-Citywide-Rolling-Calendar-Sales/usep-8jbt)\n",
        "- Glossary: [NYC Department of Finance: Rolling Sales Data](https://www1.nyc.gov/site/finance/taxes/property-rolling-sales-data.page)"
      ]
    },
    {
      "cell_type": "code",
      "metadata": {
        "id": "l33amy37wL9R",
        "colab_type": "code",
        "colab": {}
      },
      "source": [
        "%%capture\n",
        "import sys\n",
        "\n",
        "# If you're on Colab:\n",
        "if 'google.colab' in sys.modules:\n",
        "    DATA_PATH = 'https://raw.githubusercontent.com/LambdaSchool/DS-Unit-2-Applied-Modeling/master/data/'\n",
        "    !pip install category_encoders==2.*\n",
        "    !pip install pandas-profiling==2.*\n",
        "\n",
        "# If you're working locally:\n",
        "else:\n",
        "    DATA_PATH = '../data/'"
      ],
      "execution_count": 30,
      "outputs": []
    },
    {
      "cell_type": "code",
      "metadata": {
        "id": "94DNwyZBof5l",
        "colab_type": "code",
        "colab": {}
      },
      "source": [
        "import numpy as np\n",
        "import pandas as pd\n",
        "import matplotlib.pyplot as plt\n",
        "from sklearn.metrics import r2_score\n",
        "import seaborn as sns\n",
        "from scipy import stats\n",
        "from sklearn.preprocessing import StandardScaler,RobustScaler\n",
        "import scipy\n",
        "import matplotlib.gridspec as gridspec\n",
        "from sklearn.metrics import mean_squared_error, mean_absolute_error\n",
        "from sklearn.impute import SimpleImputer\n",
        "from sklearn.model_selection import train_test_split,KFold,cross_val_score,cross_validate\n",
        "from sklearn.linear_model import LinearRegression,Ridge,Lasso,ElasticNet\n",
        "from sklearn.preprocessing import OneHotEncoder,LabelEncoder\n",
        "from sklearn.model_selection import GridSearchCV\n",
        "from scipy.special import boxcox1p\n",
        "from scipy.stats import boxcox_normmax\n",
        "import matplotlib.style as style"
      ],
      "execution_count": 31,
      "outputs": []
    },
    {
      "cell_type": "markdown",
      "metadata": {
        "id": "BG0h9Invwe0y",
        "colab_type": "text"
      },
      "source": [
        "#### Continue to clean and explore your data."
      ]
    },
    {
      "cell_type": "code",
      "metadata": {
        "id": "ca4YbJEAwiKz",
        "colab_type": "code",
        "colab": {
          "base_uri": "https://localhost:8080/",
          "height": 436
        },
        "outputId": "c09e09f7-4d99-4122-d178-26f64cb0f48e"
      },
      "source": [
        "import pandas as pd\n",
        "\n",
        "df = pd.read_csv('https://raw.githubusercontent.com/evan-grinalds/Unit-2-Build-Tesla/master/tesla_model_s%20-%20model_s.csv')\n",
        "\n",
        "print(df.shape)\n",
        "df"
      ],
      "execution_count": 32,
      "outputs": [
        {
          "output_type": "stream",
          "text": [
            "(200, 7)\n"
          ],
          "name": "stdout"
        },
        {
          "output_type": "execute_result",
          "data": {
            "text/html": [
              "<div>\n",
              "<style scoped>\n",
              "    .dataframe tbody tr th:only-of-type {\n",
              "        vertical-align: middle;\n",
              "    }\n",
              "\n",
              "    .dataframe tbody tr th {\n",
              "        vertical-align: top;\n",
              "    }\n",
              "\n",
              "    .dataframe thead th {\n",
              "        text-align: right;\n",
              "    }\n",
              "</style>\n",
              "<table border=\"1\" class=\"dataframe\">\n",
              "  <thead>\n",
              "    <tr style=\"text-align: right;\">\n",
              "      <th></th>\n",
              "      <th>year</th>\n",
              "      <th>car</th>\n",
              "      <th>battery</th>\n",
              "      <th>ludacris_mode</th>\n",
              "      <th>all_wheel_drive</th>\n",
              "      <th>mileage</th>\n",
              "      <th>price</th>\n",
              "    </tr>\n",
              "  </thead>\n",
              "  <tbody>\n",
              "    <tr>\n",
              "      <th>0</th>\n",
              "      <td>2013</td>\n",
              "      <td>Model S</td>\n",
              "      <td>60</td>\n",
              "      <td>No</td>\n",
              "      <td>No</td>\n",
              "      <td>82851 mi.</td>\n",
              "      <td>27995</td>\n",
              "    </tr>\n",
              "    <tr>\n",
              "      <th>1</th>\n",
              "      <td>2018</td>\n",
              "      <td>Model S</td>\n",
              "      <td>100</td>\n",
              "      <td>No</td>\n",
              "      <td>Yes</td>\n",
              "      <td>5357 mi.</td>\n",
              "      <td>57992</td>\n",
              "    </tr>\n",
              "    <tr>\n",
              "      <th>2</th>\n",
              "      <td>2012</td>\n",
              "      <td>Model S</td>\n",
              "      <td>60</td>\n",
              "      <td>No</td>\n",
              "      <td>No</td>\n",
              "      <td>85478 mi.</td>\n",
              "      <td>24499</td>\n",
              "    </tr>\n",
              "    <tr>\n",
              "      <th>3</th>\n",
              "      <td>2017</td>\n",
              "      <td>Model S</td>\n",
              "      <td>100</td>\n",
              "      <td>No</td>\n",
              "      <td>Yes</td>\n",
              "      <td>32593 mi.</td>\n",
              "      <td>59980</td>\n",
              "    </tr>\n",
              "    <tr>\n",
              "      <th>4</th>\n",
              "      <td>2016</td>\n",
              "      <td>Model S</td>\n",
              "      <td>60</td>\n",
              "      <td>No</td>\n",
              "      <td>Yes</td>\n",
              "      <td>28418 mi.</td>\n",
              "      <td>49560</td>\n",
              "    </tr>\n",
              "    <tr>\n",
              "      <th>...</th>\n",
              "      <td>...</td>\n",
              "      <td>...</td>\n",
              "      <td>...</td>\n",
              "      <td>...</td>\n",
              "      <td>...</td>\n",
              "      <td>...</td>\n",
              "      <td>...</td>\n",
              "    </tr>\n",
              "    <tr>\n",
              "      <th>195</th>\n",
              "      <td>2014</td>\n",
              "      <td>Model S</td>\n",
              "      <td>60</td>\n",
              "      <td>No</td>\n",
              "      <td>No</td>\n",
              "      <td>25444 mi.</td>\n",
              "      <td>39590</td>\n",
              "    </tr>\n",
              "    <tr>\n",
              "      <th>196</th>\n",
              "      <td>2016</td>\n",
              "      <td>Model S</td>\n",
              "      <td>100</td>\n",
              "      <td>Yes</td>\n",
              "      <td>Yes</td>\n",
              "      <td>33719 mi.</td>\n",
              "      <td>67990</td>\n",
              "    </tr>\n",
              "    <tr>\n",
              "      <th>197</th>\n",
              "      <td>2020</td>\n",
              "      <td>Model S</td>\n",
              "      <td>100</td>\n",
              "      <td>No</td>\n",
              "      <td>No</td>\n",
              "      <td>1527 mi.</td>\n",
              "      <td>83900</td>\n",
              "    </tr>\n",
              "    <tr>\n",
              "      <th>198</th>\n",
              "      <td>2016</td>\n",
              "      <td>Model S</td>\n",
              "      <td>75</td>\n",
              "      <td>No</td>\n",
              "      <td>No</td>\n",
              "      <td>50600 mi.</td>\n",
              "      <td>40500</td>\n",
              "    </tr>\n",
              "    <tr>\n",
              "      <th>199</th>\n",
              "      <td>2015</td>\n",
              "      <td>Model S</td>\n",
              "      <td>85</td>\n",
              "      <td>No</td>\n",
              "      <td>Yes</td>\n",
              "      <td>47759 mi.</td>\n",
              "      <td>39900</td>\n",
              "    </tr>\n",
              "  </tbody>\n",
              "</table>\n",
              "<p>200 rows × 7 columns</p>\n",
              "</div>"
            ],
            "text/plain": [
              "     year      car  battery ludacris_mode all_wheel_drive    mileage  price\n",
              "0    2013  Model S       60            No              No  82851 mi.  27995\n",
              "1    2018  Model S      100            No             Yes   5357 mi.  57992\n",
              "2    2012  Model S       60            No              No  85478 mi.  24499\n",
              "3    2017  Model S      100            No             Yes  32593 mi.  59980\n",
              "4    2016  Model S       60            No             Yes  28418 mi.  49560\n",
              "..    ...      ...      ...           ...             ...        ...    ...\n",
              "195  2014  Model S       60            No              No  25444 mi.  39590\n",
              "196  2016  Model S      100           Yes             Yes  33719 mi.  67990\n",
              "197  2020  Model S      100            No              No   1527 mi.  83900\n",
              "198  2016  Model S       75            No              No  50600 mi.  40500\n",
              "199  2015  Model S       85            No             Yes  47759 mi.  39900\n",
              "\n",
              "[200 rows x 7 columns]"
            ]
          },
          "metadata": {
            "tags": []
          },
          "execution_count": 32
        }
      ]
    },
    {
      "cell_type": "code",
      "metadata": {
        "id": "aY91SrAAwmhJ",
        "colab_type": "code",
        "colab": {
          "base_uri": "https://localhost:8080/",
          "height": 170
        },
        "outputId": "7a8aaaa8-e6dc-4d2b-bac6-f3ee77825683"
      },
      "source": [
        "pd.options.display.float_format = '{:,.0f}'.format\n",
        "df['price'].describe()"
      ],
      "execution_count": 45,
      "outputs": [
        {
          "output_type": "execute_result",
          "data": {
            "text/plain": [
              "count      200\n",
              "mean    47,691\n",
              "std     15,380\n",
              "min     24,499\n",
              "25%     35,000\n",
              "50%     44,585\n",
              "75%     57,247\n",
              "max     92,900\n",
              "Name: price, dtype: float64"
            ]
          },
          "metadata": {
            "tags": []
          },
          "execution_count": 45
        }
      ]
    },
    {
      "cell_type": "code",
      "metadata": {
        "id": "AeK4wDoHwxFs",
        "colab_type": "code",
        "colab": {}
      },
      "source": [
        "guess = df['price'].mean()"
      ],
      "execution_count": 46,
      "outputs": []
    },
    {
      "cell_type": "code",
      "metadata": {
        "id": "BuhbPVIkwzOT",
        "colab_type": "code",
        "colab": {
          "base_uri": "https://localhost:8080/",
          "height": 34
        },
        "outputId": "f9540af5-5e5f-4909-9140-fd10fc703283"
      },
      "source": [
        "guess"
      ],
      "execution_count": 47,
      "outputs": [
        {
          "output_type": "execute_result",
          "data": {
            "text/plain": [
              "47690.6"
            ]
          },
          "metadata": {
            "tags": []
          },
          "execution_count": 47
        }
      ]
    },
    {
      "cell_type": "code",
      "metadata": {
        "id": "fO1EC2rQw00U",
        "colab_type": "code",
        "colab": {}
      },
      "source": [
        "errors = guess - df['price']"
      ],
      "execution_count": 48,
      "outputs": []
    },
    {
      "cell_type": "code",
      "metadata": {
        "id": "jN1RtAjzw413",
        "colab_type": "code",
        "colab": {
          "base_uri": "https://localhost:8080/",
          "height": 221
        },
        "outputId": "9fabbf3d-c028-4cef-b496-8c1ee0b263ba"
      },
      "source": [
        "errors"
      ],
      "execution_count": 49,
      "outputs": [
        {
          "output_type": "execute_result",
          "data": {
            "text/plain": [
              "0      19,696\n",
              "1     -10,301\n",
              "2      23,192\n",
              "3     -12,289\n",
              "4      -1,869\n",
              "        ...  \n",
              "195     8,101\n",
              "196   -20,299\n",
              "197   -36,209\n",
              "198     7,191\n",
              "199     7,791\n",
              "Name: price, Length: 200, dtype: float64"
            ]
          },
          "metadata": {
            "tags": []
          },
          "execution_count": 49
        }
      ]
    },
    {
      "cell_type": "code",
      "metadata": {
        "id": "kXc-dxpHw8Hl",
        "colab_type": "code",
        "colab": {}
      },
      "source": [
        "mean_absolute_error = errors.abs().mean()"
      ],
      "execution_count": 50,
      "outputs": []
    },
    {
      "cell_type": "code",
      "metadata": {
        "id": "FE_Fm05yw-bV",
        "colab_type": "code",
        "colab": {
          "base_uri": "https://localhost:8080/",
          "height": 51
        },
        "outputId": "714a8947-eac3-418b-be20-3ee3a8aa634a"
      },
      "source": [
        "print(f'If we just guessed every Tesla Model S sold for ${guess:,.0f},')\n",
        "print(f'we would be off by ${mean_absolute_error:,.0f} on average.')"
      ],
      "execution_count": 51,
      "outputs": [
        {
          "output_type": "stream",
          "text": [
            "If we just guessed every Tesla Model S sold for $47,691,\n",
            "we would be off by $12,357 on average.\n"
          ],
          "name": "stdout"
        }
      ]
    },
    {
      "cell_type": "code",
      "metadata": {
        "id": "_cKuonwkxQKb",
        "colab_type": "code",
        "colab": {}
      },
      "source": [
        "from sklearn.model_selection import train_test_split\n",
        "train, test= train_test_split(df, test_size=0.20)"
      ],
      "execution_count": null,
      "outputs": []
    },
    {
      "cell_type": "code",
      "metadata": {
        "id": "bNJu4RSpxTDC",
        "colab_type": "code",
        "colab": {
          "base_uri": "https://localhost:8080/",
          "height": 204
        },
        "outputId": "2526a190-21a5-4ae5-cc45-9cd2a011e953"
      },
      "source": [
        "train.head(5)"
      ],
      "execution_count": 52,
      "outputs": [
        {
          "output_type": "execute_result",
          "data": {
            "text/html": [
              "<div>\n",
              "<style scoped>\n",
              "    .dataframe tbody tr th:only-of-type {\n",
              "        vertical-align: middle;\n",
              "    }\n",
              "\n",
              "    .dataframe tbody tr th {\n",
              "        vertical-align: top;\n",
              "    }\n",
              "\n",
              "    .dataframe thead th {\n",
              "        text-align: right;\n",
              "    }\n",
              "</style>\n",
              "<table border=\"1\" class=\"dataframe\">\n",
              "  <thead>\n",
              "    <tr style=\"text-align: right;\">\n",
              "      <th></th>\n",
              "      <th>year</th>\n",
              "      <th>car</th>\n",
              "      <th>battery</th>\n",
              "      <th>ludacris_mode</th>\n",
              "      <th>all_wheel_drive</th>\n",
              "      <th>mileage</th>\n",
              "      <th>price</th>\n",
              "    </tr>\n",
              "  </thead>\n",
              "  <tbody>\n",
              "    <tr>\n",
              "      <th>71</th>\n",
              "      <td>2014</td>\n",
              "      <td>Model S</td>\n",
              "      <td>60</td>\n",
              "      <td>No</td>\n",
              "      <td>No</td>\n",
              "      <td>82423 mi.</td>\n",
              "      <td>29942</td>\n",
              "    </tr>\n",
              "    <tr>\n",
              "      <th>65</th>\n",
              "      <td>2016</td>\n",
              "      <td>Model S</td>\n",
              "      <td>90</td>\n",
              "      <td>Yes</td>\n",
              "      <td>Yes</td>\n",
              "      <td>38958 mi.</td>\n",
              "      <td>64995</td>\n",
              "    </tr>\n",
              "    <tr>\n",
              "      <th>140</th>\n",
              "      <td>2013</td>\n",
              "      <td>Model S</td>\n",
              "      <td>60</td>\n",
              "      <td>No</td>\n",
              "      <td>No</td>\n",
              "      <td>28679 mi.</td>\n",
              "      <td>33999</td>\n",
              "    </tr>\n",
              "    <tr>\n",
              "      <th>152</th>\n",
              "      <td>2013</td>\n",
              "      <td>Model S</td>\n",
              "      <td>60</td>\n",
              "      <td>No</td>\n",
              "      <td>No</td>\n",
              "      <td>146487 mi.</td>\n",
              "      <td>25488</td>\n",
              "    </tr>\n",
              "    <tr>\n",
              "      <th>151</th>\n",
              "      <td>2015</td>\n",
              "      <td>Model S</td>\n",
              "      <td>85</td>\n",
              "      <td>No</td>\n",
              "      <td>No</td>\n",
              "      <td>84141 mi.</td>\n",
              "      <td>33347</td>\n",
              "    </tr>\n",
              "  </tbody>\n",
              "</table>\n",
              "</div>"
            ],
            "text/plain": [
              "     year      car  battery ludacris_mode all_wheel_drive     mileage  price\n",
              "71   2014  Model S       60            No              No   82423 mi.  29942\n",
              "65   2016  Model S       90           Yes             Yes   38958 mi.  64995\n",
              "140  2013  Model S       60            No              No   28679 mi.  33999\n",
              "152  2013  Model S       60            No              No  146487 mi.  25488\n",
              "151  2015  Model S       85            No              No   84141 mi.  33347"
            ]
          },
          "metadata": {
            "tags": []
          },
          "execution_count": 52
        }
      ]
    },
    {
      "cell_type": "code",
      "metadata": {
        "id": "jHafAku_xXAg",
        "colab_type": "code",
        "colab": {
          "base_uri": "https://localhost:8080/",
          "height": 204
        },
        "outputId": "2fcfb7f6-a78b-4ab0-b5c5-63326b1fe68a"
      },
      "source": [
        "test.head(5)"
      ],
      "execution_count": 53,
      "outputs": [
        {
          "output_type": "execute_result",
          "data": {
            "text/html": [
              "<div>\n",
              "<style scoped>\n",
              "    .dataframe tbody tr th:only-of-type {\n",
              "        vertical-align: middle;\n",
              "    }\n",
              "\n",
              "    .dataframe tbody tr th {\n",
              "        vertical-align: top;\n",
              "    }\n",
              "\n",
              "    .dataframe thead th {\n",
              "        text-align: right;\n",
              "    }\n",
              "</style>\n",
              "<table border=\"1\" class=\"dataframe\">\n",
              "  <thead>\n",
              "    <tr style=\"text-align: right;\">\n",
              "      <th></th>\n",
              "      <th>year</th>\n",
              "      <th>car</th>\n",
              "      <th>battery</th>\n",
              "      <th>ludacris_mode</th>\n",
              "      <th>all_wheel_drive</th>\n",
              "      <th>mileage</th>\n",
              "      <th>price</th>\n",
              "    </tr>\n",
              "  </thead>\n",
              "  <tbody>\n",
              "    <tr>\n",
              "      <th>156</th>\n",
              "      <td>2016</td>\n",
              "      <td>Model S</td>\n",
              "      <td>70</td>\n",
              "      <td>No</td>\n",
              "      <td>Yes</td>\n",
              "      <td>49306 mi.</td>\n",
              "      <td>38497</td>\n",
              "    </tr>\n",
              "    <tr>\n",
              "      <th>32</th>\n",
              "      <td>2017</td>\n",
              "      <td>Model S</td>\n",
              "      <td>100</td>\n",
              "      <td>No</td>\n",
              "      <td>Yes</td>\n",
              "      <td>32565 mi.</td>\n",
              "      <td>66000</td>\n",
              "    </tr>\n",
              "    <tr>\n",
              "      <th>27</th>\n",
              "      <td>2013</td>\n",
              "      <td>Model S</td>\n",
              "      <td>60</td>\n",
              "      <td>Yes</td>\n",
              "      <td>No</td>\n",
              "      <td>39300 mi.</td>\n",
              "      <td>31795</td>\n",
              "    </tr>\n",
              "    <tr>\n",
              "      <th>147</th>\n",
              "      <td>2015</td>\n",
              "      <td>Model S</td>\n",
              "      <td>70</td>\n",
              "      <td>No</td>\n",
              "      <td>Yes</td>\n",
              "      <td>38500 mi.</td>\n",
              "      <td>40995</td>\n",
              "    </tr>\n",
              "    <tr>\n",
              "      <th>95</th>\n",
              "      <td>2015</td>\n",
              "      <td>Model S</td>\n",
              "      <td>85</td>\n",
              "      <td>No</td>\n",
              "      <td>Yes</td>\n",
              "      <td>88599 mi.</td>\n",
              "      <td>28900</td>\n",
              "    </tr>\n",
              "  </tbody>\n",
              "</table>\n",
              "</div>"
            ],
            "text/plain": [
              "     year      car  battery ludacris_mode all_wheel_drive    mileage  price\n",
              "156  2016  Model S       70            No             Yes  49306 mi.  38497\n",
              "32   2017  Model S      100            No             Yes  32565 mi.  66000\n",
              "27   2013  Model S       60           Yes              No  39300 mi.  31795\n",
              "147  2015  Model S       70            No             Yes  38500 mi.  40995\n",
              "95   2015  Model S       85            No             Yes  88599 mi.  28900"
            ]
          },
          "metadata": {
            "tags": []
          },
          "execution_count": 53
        }
      ]
    },
    {
      "cell_type": "code",
      "metadata": {
        "id": "yEsCPPgvxkxW",
        "colab_type": "code",
        "colab": {}
      },
      "source": [
        "feature = ['battery']\n",
        "target = ['price']\n",
        "X_train = train[feature]\n",
        "X_test = test[feature]\n",
        "y_test = test[target]\n",
        "y_train = train[target]"
      ],
      "execution_count": 58,
      "outputs": []
    },
    {
      "cell_type": "code",
      "metadata": {
        "id": "8fXeHrwdxsIm",
        "colab_type": "code",
        "colab": {
          "base_uri": "https://localhost:8080/",
          "height": 360
        },
        "outputId": "709113b1-959b-4577-f423-c21257c60758"
      },
      "source": [
        "from sklearn.model_selection import GridSearchCV, RandomizedSearchCV\n",
        "import category_encoders as ce\n",
        "import numpy as np\n",
        "from sklearn.feature_selection import f_regression, SelectKBest\n",
        "from sklearn.impute import KNNImputer\n",
        "from sklearn.linear_model import Ridge\n",
        "from sklearn.model_selection import cross_val_score\n",
        "from sklearn.pipeline import make_pipeline\n",
        "from sklearn.preprocessing import StandardScaler\n",
        "\n",
        "pipeline = make_pipeline(\n",
        "    ce.BinaryEncoder(), \n",
        "    KNNImputer(), \n",
        "    StandardScaler(), \n",
        "    SelectKBest(f_regression), \n",
        "    Ridge()\n",
        ")\n",
        "\n",
        "param_distributions = {\n",
        "    'knnimputer__n_neighbors': [3,4,5,6,7,8], \n",
        "    'selectkbest__k': range(1, len(X_train.columns)+1), \n",
        "    'ridge__alpha': [0.1, 1,8,9,10,15], \n",
        "}\n",
        "\n",
        "# If you're on Colab, decrease n_iter & cv parameters\n",
        "search = RandomizedSearchCV(\n",
        "    pipeline, \n",
        "    param_distributions=param_distributions, \n",
        "    n_iter=100, \n",
        "    cv=10, \n",
        "    scoring='neg_mean_absolute_error', \n",
        "    verbose=10, \n",
        "    return_train_score=True, \n",
        "    n_jobs=-1\n",
        ")\n",
        "\n",
        "search.fit(X_train, y_train);"
      ],
      "execution_count": 59,
      "outputs": [
        {
          "output_type": "stream",
          "text": [
            "/usr/local/lib/python3.6/dist-packages/sklearn/model_selection/_search.py:281: UserWarning: The total space of parameters 36 is smaller than n_iter=100. Running 36 iterations. For exhaustive searches, use GridSearchCV.\n",
            "  % (grid_size, self.n_iter, grid_size), UserWarning)\n",
            "[Parallel(n_jobs=-1)]: Using backend LokyBackend with 2 concurrent workers.\n",
            "[Parallel(n_jobs=-1)]: Done   1 tasks      | elapsed:    0.0s\n",
            "[Parallel(n_jobs=-1)]: Batch computation too fast (0.0328s.) Setting batch_size=2.\n",
            "[Parallel(n_jobs=-1)]: Done   4 tasks      | elapsed:    0.1s\n",
            "[Parallel(n_jobs=-1)]: Batch computation too fast (0.0588s.) Setting batch_size=4.\n"
          ],
          "name": "stderr"
        },
        {
          "output_type": "stream",
          "text": [
            "Fitting 10 folds for each of 36 candidates, totalling 360 fits\n"
          ],
          "name": "stdout"
        },
        {
          "output_type": "stream",
          "text": [
            "[Parallel(n_jobs=-1)]: Done  16 tasks      | elapsed:    0.2s\n",
            "[Parallel(n_jobs=-1)]: Batch computation too fast (0.1320s.) Setting batch_size=8.\n",
            "[Parallel(n_jobs=-1)]: Done  44 tasks      | elapsed:    0.5s\n",
            "[Parallel(n_jobs=-1)]: Done 100 tasks      | elapsed:    1.1s\n",
            "[Parallel(n_jobs=-1)]: Done 156 tasks      | elapsed:    1.6s\n",
            "[Parallel(n_jobs=-1)]: Done 228 tasks      | elapsed:    2.3s\n",
            "[Parallel(n_jobs=-1)]: Done 300 tasks      | elapsed:    3.0s\n",
            "[Parallel(n_jobs=-1)]: Done 353 tasks      | elapsed:    3.5s\n",
            "[Parallel(n_jobs=-1)]: Done 360 out of 360 | elapsed:    3.6s finished\n",
            "/usr/local/lib/python3.6/dist-packages/sklearn/utils/validation.py:760: DataConversionWarning: A column-vector y was passed when a 1d array was expected. Please change the shape of y to (n_samples, ), for example using ravel().\n",
            "  y = column_or_1d(y, warn=True)\n"
          ],
          "name": "stderr"
        }
      ]
    },
    {
      "cell_type": "code",
      "metadata": {
        "id": "jsBS8dHVx2XF",
        "colab_type": "code",
        "colab": {
          "base_uri": "https://localhost:8080/",
          "height": 283
        },
        "outputId": "eb945f7b-f9c4-4ad1-d1db-f9cbd6bd608f"
      },
      "source": [
        "print('Best hyperparameters', search.best_params_)\n",
        "print('Cross-validation MAE', -search.best_score_)\n",
        "pipeline = search.best_estimator_\n",
        "y_pred = pipeline.predict(X_test)\n",
        "predictions = np.expm1(y_pred)\n",
        "predictions\n",
        "mae = mean_absolute_error(Y_test, predictions)\n",
        "print(f'Test MAE: ${mae:,.0f}')"
      ],
      "execution_count": 60,
      "outputs": [
        {
          "output_type": "stream",
          "text": [
            "Best hyperparameters {'selectkbest__k': 1, 'ridge__alpha': 0.1, 'knnimputer__n_neighbors': 3}\n",
            "Cross-validation MAE 7705.662449467697\n"
          ],
          "name": "stdout"
        },
        {
          "output_type": "stream",
          "text": [
            "/usr/local/lib/python3.6/dist-packages/ipykernel_launcher.py:5: RuntimeWarning: overflow encountered in expm1\n",
            "  \"\"\"\n"
          ],
          "name": "stderr"
        },
        {
          "output_type": "error",
          "ename": "TypeError",
          "evalue": "ignored",
          "traceback": [
            "\u001b[0;31m---------------------------------------------------------------------------\u001b[0m",
            "\u001b[0;31mTypeError\u001b[0m                                 Traceback (most recent call last)",
            "\u001b[0;32m<ipython-input-60-4bfe2e54d39d>\u001b[0m in \u001b[0;36m<module>\u001b[0;34m()\u001b[0m\n\u001b[1;32m      5\u001b[0m \u001b[0mpredictions\u001b[0m \u001b[0;34m=\u001b[0m \u001b[0mnp\u001b[0m\u001b[0;34m.\u001b[0m\u001b[0mexpm1\u001b[0m\u001b[0;34m(\u001b[0m\u001b[0my_pred\u001b[0m\u001b[0;34m)\u001b[0m\u001b[0;34m\u001b[0m\u001b[0;34m\u001b[0m\u001b[0m\n\u001b[1;32m      6\u001b[0m \u001b[0mpredictions\u001b[0m\u001b[0;34m\u001b[0m\u001b[0;34m\u001b[0m\u001b[0m\n\u001b[0;32m----> 7\u001b[0;31m \u001b[0mmae\u001b[0m \u001b[0;34m=\u001b[0m \u001b[0mmean_absolute_error\u001b[0m\u001b[0;34m(\u001b[0m\u001b[0mY_test\u001b[0m\u001b[0;34m,\u001b[0m \u001b[0mpredictions\u001b[0m\u001b[0;34m)\u001b[0m\u001b[0;34m\u001b[0m\u001b[0;34m\u001b[0m\u001b[0m\n\u001b[0m\u001b[1;32m      8\u001b[0m \u001b[0mprint\u001b[0m\u001b[0;34m(\u001b[0m\u001b[0;34mf'Test MAE: ${mae:,.0f}'\u001b[0m\u001b[0;34m)\u001b[0m\u001b[0;34m\u001b[0m\u001b[0;34m\u001b[0m\u001b[0m\n",
            "\u001b[0;31mTypeError\u001b[0m: 'float' object is not callable"
          ]
        }
      ]
    }
  ]
}