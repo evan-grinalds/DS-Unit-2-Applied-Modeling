{
  "nbformat": 4,
  "nbformat_minor": 0,
  "metadata": {
    "kernelspec": {
      "display_name": "Python 3",
      "language": "python",
      "name": "python3"
    },
    "language_info": {
      "codemirror_mode": {
        "name": "ipython",
        "version": 3
      },
      "file_extension": ".py",
      "mimetype": "text/x-python",
      "name": "python",
      "nbconvert_exporter": "python",
      "pygments_lexer": "ipython3",
      "version": "3.7.6"
    },
    "colab": {
      "name": "Copy of LS_DS17_231_assignment.ipynb",
      "provenance": [],
      "include_colab_link": true
    }
  },
  "cells": [
    {
      "cell_type": "markdown",
      "metadata": {
        "id": "view-in-github",
        "colab_type": "text"
      },
      "source": [
        "<a href=\"https://colab.research.google.com/github/evan-grinalds/DS-Unit-2-Applied-Modeling/blob/master/module1-define-ml-problems/Copy_of_LS_DS17_231_assignment.ipynb\" target=\"_parent\"><img src=\"https://colab.research.google.com/assets/colab-badge.svg\" alt=\"Open In Colab\"/></a>"
      ]
    },
    {
      "cell_type": "markdown",
      "metadata": {
        "colab_type": "text",
        "id": "nCc3XZEyG3XV"
      },
      "source": [
        "Lambda School Data Science\n",
        "\n",
        "*Unit 2, Sprint 3, Module 1*\n",
        "\n",
        "---\n",
        "\n",
        "\n",
        "# Define ML problems\n",
        "\n",
        "You will use your portfolio project dataset for all assignments this sprint.\n",
        "\n",
        "## Assignment\n",
        "\n",
        "Complete these tasks for your project, and document your decisions.\n",
        "\n",
        "- [ ] Choose your target. Which column in your tabular dataset will you predict?\n",
        "- [ ] Is your problem regression or classification?\n",
        "- [ ] How is your target distributed?\n",
        "    - Classification: How many classes? Are the classes imbalanced?\n",
        "    - Regression: Is the target right-skewed? If so, you may want to log transform the target.\n",
        "- [ ] Choose your evaluation metric(s).\n",
        "    - Classification: Is your majority class frequency >= 50% and < 70% ? If so, you can just use accuracy if you want. Outside that range, accuracy could be misleading. What evaluation metric will you choose, in addition to or instead of accuracy?\n",
        "    - Regression: Will you use mean absolute error, root mean squared error, R^2, or other regression metrics?\n",
        "- [ ] Choose which observations you will use to train, validate, and test your model.\n",
        "    - Are some observations outliers? Will you exclude them?\n",
        "    - Will you do a random split or a time-based split?\n",
        "- [ ] Begin to clean and explore your data.\n",
        "- [ ] Begin to choose which features, if any, to exclude. Would some features \"leak\" future information?\n",
        "\n",
        "If you haven't found a dataset yet, do that today. [Review requirements for your portfolio project](https://lambdaschool.github.io/ds/unit2) and choose your dataset.\n",
        "\n",
        "Some students worry, ***what if my model isn't “good”?*** Then, [produce a detailed tribute to your wrongness. That is science!](https://twitter.com/nathanwpyle/status/1176860147223867393)"
      ]
    },
    {
      "cell_type": "markdown",
      "metadata": {
        "id": "SNqMpdR7DsAU",
        "colab_type": "text"
      },
      "source": [
        "####  Choose your target. Which column in your tabular dataset will you predict?"
      ]
    },
    {
      "cell_type": "code",
      "metadata": {
        "id": "NVeG_dceDuba",
        "colab_type": "code",
        "colab": {}
      },
      "source": [
        "# My target is the price of the Tesla"
      ],
      "execution_count": null,
      "outputs": []
    },
    {
      "cell_type": "markdown",
      "metadata": {
        "id": "yr2CFje1EB7f",
        "colab_type": "text"
      },
      "source": [
        "#### Is your problem regression or classification?"
      ]
    },
    {
      "cell_type": "code",
      "metadata": {
        "id": "XpjI-GIWEFaa",
        "colab_type": "code",
        "colab": {}
      },
      "source": [
        "# I will use regression because my goal is to predict a quantity not a category."
      ],
      "execution_count": null,
      "outputs": []
    },
    {
      "cell_type": "markdown",
      "metadata": {
        "id": "VsMc47bQEKge",
        "colab_type": "text"
      },
      "source": [
        "#### How is your target distributed?"
      ]
    },
    {
      "cell_type": "code",
      "metadata": {
        "id": "GEtwbhrrEbU0",
        "colab_type": "code",
        "colab": {}
      },
      "source": [
        "# The target is left-skewed"
      ],
      "execution_count": null,
      "outputs": []
    },
    {
      "cell_type": "markdown",
      "metadata": {
        "id": "YsNhTkQ8Ec0K",
        "colab_type": "text"
      },
      "source": [
        "#### Choose your evaluation metric(s)"
      ]
    },
    {
      "cell_type": "code",
      "metadata": {
        "id": "4mj1np_-Egkk",
        "colab_type": "code",
        "colab": {}
      },
      "source": [
        "# Mean absolute error, root mean squared, R^2, Ridge Regression"
      ],
      "execution_count": null,
      "outputs": []
    },
    {
      "cell_type": "markdown",
      "metadata": {
        "id": "EyIw7HtTElDi",
        "colab_type": "text"
      },
      "source": [
        "#### Choose which observations you will use to train, validate, and test your model."
      ]
    },
    {
      "cell_type": "code",
      "metadata": {
        "id": "Oysi01_jEolZ",
        "colab_type": "code",
        "colab": {}
      },
      "source": [
        "# I will use the entire data set no outliers. I will do a random split."
      ],
      "execution_count": null,
      "outputs": []
    },
    {
      "cell_type": "markdown",
      "metadata": {
        "id": "qvv_xe7REtWI",
        "colab_type": "text"
      },
      "source": [
        "####  Begin to clean and explore your data."
      ]
    },
    {
      "cell_type": "code",
      "metadata": {
        "id": "YiXz0Br9AeFK",
        "colab_type": "code",
        "colab": {
          "base_uri": "https://localhost:8080/",
          "height": 436
        },
        "outputId": "53e24432-cca0-4b60-cc2a-dcb895babf43"
      },
      "source": [
        "import pandas as pd\n",
        "\n",
        "df = pd.read_csv('https://raw.githubusercontent.com/evan-grinalds/Unit-2-Build-Tesla/master/tesla_model_s%20-%20page_1.csv')\n",
        "\n",
        "print(df.shape)\n",
        "df"
      ],
      "execution_count": 1,
      "outputs": [
        {
          "output_type": "stream",
          "text": [
            "(86, 7)\n"
          ],
          "name": "stdout"
        },
        {
          "output_type": "execute_result",
          "data": {
            "text/html": [
              "<div>\n",
              "<style scoped>\n",
              "    .dataframe tbody tr th:only-of-type {\n",
              "        vertical-align: middle;\n",
              "    }\n",
              "\n",
              "    .dataframe tbody tr th {\n",
              "        vertical-align: top;\n",
              "    }\n",
              "\n",
              "    .dataframe thead th {\n",
              "        text-align: right;\n",
              "    }\n",
              "</style>\n",
              "<table border=\"1\" class=\"dataframe\">\n",
              "  <thead>\n",
              "    <tr style=\"text-align: right;\">\n",
              "      <th></th>\n",
              "      <th>Year</th>\n",
              "      <th>Car</th>\n",
              "      <th>Battery (kwh)</th>\n",
              "      <th>Ludacris Mode</th>\n",
              "      <th>All-Wheel Drive</th>\n",
              "      <th>Mileage</th>\n",
              "      <th>Price</th>\n",
              "    </tr>\n",
              "  </thead>\n",
              "  <tbody>\n",
              "    <tr>\n",
              "      <th>0</th>\n",
              "      <td>2013</td>\n",
              "      <td>Tesla Model S</td>\n",
              "      <td>60</td>\n",
              "      <td>No</td>\n",
              "      <td>No</td>\n",
              "      <td>82851 mi.</td>\n",
              "      <td>27995</td>\n",
              "    </tr>\n",
              "    <tr>\n",
              "      <th>1</th>\n",
              "      <td>2018</td>\n",
              "      <td>Tesla Model S</td>\n",
              "      <td>100</td>\n",
              "      <td>No</td>\n",
              "      <td>Yes</td>\n",
              "      <td>5357 mi.</td>\n",
              "      <td>57992</td>\n",
              "    </tr>\n",
              "    <tr>\n",
              "      <th>2</th>\n",
              "      <td>2012</td>\n",
              "      <td>Tesla Model S</td>\n",
              "      <td>60</td>\n",
              "      <td>No</td>\n",
              "      <td>No</td>\n",
              "      <td>85478 mi.</td>\n",
              "      <td>24499</td>\n",
              "    </tr>\n",
              "    <tr>\n",
              "      <th>3</th>\n",
              "      <td>2017</td>\n",
              "      <td>Tesla Model S</td>\n",
              "      <td>100</td>\n",
              "      <td>No</td>\n",
              "      <td>Yes</td>\n",
              "      <td>32593 mi.</td>\n",
              "      <td>59980</td>\n",
              "    </tr>\n",
              "    <tr>\n",
              "      <th>4</th>\n",
              "      <td>2016</td>\n",
              "      <td>Tesla Model S</td>\n",
              "      <td>60</td>\n",
              "      <td>No</td>\n",
              "      <td>Yes</td>\n",
              "      <td>28418 mi.</td>\n",
              "      <td>49560</td>\n",
              "    </tr>\n",
              "    <tr>\n",
              "      <th>...</th>\n",
              "      <td>...</td>\n",
              "      <td>...</td>\n",
              "      <td>...</td>\n",
              "      <td>...</td>\n",
              "      <td>...</td>\n",
              "      <td>...</td>\n",
              "      <td>...</td>\n",
              "    </tr>\n",
              "    <tr>\n",
              "      <th>81</th>\n",
              "      <td>2016</td>\n",
              "      <td>Tesla Model S</td>\n",
              "      <td>90</td>\n",
              "      <td>No</td>\n",
              "      <td>Yes</td>\n",
              "      <td>26393 mi.</td>\n",
              "      <td>52999</td>\n",
              "    </tr>\n",
              "    <tr>\n",
              "      <th>82</th>\n",
              "      <td>2016</td>\n",
              "      <td>Tesla Model S</td>\n",
              "      <td>70</td>\n",
              "      <td>No</td>\n",
              "      <td>Yes</td>\n",
              "      <td>49306 mi.</td>\n",
              "      <td>38497</td>\n",
              "    </tr>\n",
              "    <tr>\n",
              "      <th>83</th>\n",
              "      <td>2018</td>\n",
              "      <td>Tesla Model S</td>\n",
              "      <td>75</td>\n",
              "      <td>No</td>\n",
              "      <td>Yes</td>\n",
              "      <td>23445 mi.</td>\n",
              "      <td>58991</td>\n",
              "    </tr>\n",
              "    <tr>\n",
              "      <th>84</th>\n",
              "      <td>2018</td>\n",
              "      <td>Tesla Model S</td>\n",
              "      <td>100</td>\n",
              "      <td>Yes</td>\n",
              "      <td>Yes</td>\n",
              "      <td>8152 mi.</td>\n",
              "      <td>89900</td>\n",
              "    </tr>\n",
              "    <tr>\n",
              "      <th>85</th>\n",
              "      <td>2014</td>\n",
              "      <td>Tesla Model S</td>\n",
              "      <td>60</td>\n",
              "      <td>No</td>\n",
              "      <td>No</td>\n",
              "      <td>49495 mi.</td>\n",
              "      <td>35999</td>\n",
              "    </tr>\n",
              "  </tbody>\n",
              "</table>\n",
              "<p>86 rows × 7 columns</p>\n",
              "</div>"
            ],
            "text/plain": [
              "    Year             Car  Battery (kwh)  ... All-Wheel Drive    Mileage  Price\n",
              "0   2013   Tesla Model S             60  ...              No  82851 mi.  27995\n",
              "1   2018  Tesla Model S             100  ...             Yes   5357 mi.  57992\n",
              "2   2012   Tesla Model S             60  ...              No  85478 mi.  24499\n",
              "3   2017   Tesla Model S            100  ...             Yes  32593 mi.  59980\n",
              "4   2016   Tesla Model S             60  ...             Yes  28418 mi.  49560\n",
              "..   ...             ...            ...  ...             ...        ...    ...\n",
              "81  2016   Tesla Model S             90  ...             Yes  26393 mi.  52999\n",
              "82  2016   Tesla Model S             70  ...             Yes  49306 mi.  38497\n",
              "83  2018   Tesla Model S             75  ...             Yes  23445 mi.  58991\n",
              "84  2018   Tesla Model S            100  ...             Yes   8152 mi.  89900\n",
              "85  2014   Tesla Model S             60  ...              No  49495 mi.  35999\n",
              "\n",
              "[86 rows x 7 columns]"
            ]
          },
          "metadata": {
            "tags": []
          },
          "execution_count": 1
        }
      ]
    },
    {
      "cell_type": "code",
      "metadata": {
        "id": "N38XGsUekc_S",
        "colab_type": "code",
        "colab": {
          "base_uri": "https://localhost:8080/",
          "height": 297
        },
        "outputId": "249c0cce-bbe3-4b89-8846-0343d1a03b87"
      },
      "source": [
        "df.describe()"
      ],
      "execution_count": 2,
      "outputs": [
        {
          "output_type": "execute_result",
          "data": {
            "text/html": [
              "<div>\n",
              "<style scoped>\n",
              "    .dataframe tbody tr th:only-of-type {\n",
              "        vertical-align: middle;\n",
              "    }\n",
              "\n",
              "    .dataframe tbody tr th {\n",
              "        vertical-align: top;\n",
              "    }\n",
              "\n",
              "    .dataframe thead th {\n",
              "        text-align: right;\n",
              "    }\n",
              "</style>\n",
              "<table border=\"1\" class=\"dataframe\">\n",
              "  <thead>\n",
              "    <tr style=\"text-align: right;\">\n",
              "      <th></th>\n",
              "      <th>Year</th>\n",
              "      <th>Battery (kwh)</th>\n",
              "      <th>Price</th>\n",
              "    </tr>\n",
              "  </thead>\n",
              "  <tbody>\n",
              "    <tr>\n",
              "      <th>count</th>\n",
              "      <td>86.000000</td>\n",
              "      <td>86.000000</td>\n",
              "      <td>86.000000</td>\n",
              "    </tr>\n",
              "    <tr>\n",
              "      <th>mean</th>\n",
              "      <td>2015.290698</td>\n",
              "      <td>73.953488</td>\n",
              "      <td>46903.860465</td>\n",
              "    </tr>\n",
              "    <tr>\n",
              "      <th>std</th>\n",
              "      <td>1.871560</td>\n",
              "      <td>15.283907</td>\n",
              "      <td>16020.102252</td>\n",
              "    </tr>\n",
              "    <tr>\n",
              "      <th>min</th>\n",
              "      <td>2012.000000</td>\n",
              "      <td>60.000000</td>\n",
              "      <td>24499.000000</td>\n",
              "    </tr>\n",
              "    <tr>\n",
              "      <th>25%</th>\n",
              "      <td>2013.250000</td>\n",
              "      <td>60.000000</td>\n",
              "      <td>34983.750000</td>\n",
              "    </tr>\n",
              "    <tr>\n",
              "      <th>50%</th>\n",
              "      <td>2016.000000</td>\n",
              "      <td>70.000000</td>\n",
              "      <td>42989.500000</td>\n",
              "    </tr>\n",
              "    <tr>\n",
              "      <th>75%</th>\n",
              "      <td>2017.000000</td>\n",
              "      <td>85.000000</td>\n",
              "      <td>57743.750000</td>\n",
              "    </tr>\n",
              "    <tr>\n",
              "      <th>max</th>\n",
              "      <td>2019.000000</td>\n",
              "      <td>100.000000</td>\n",
              "      <td>92900.000000</td>\n",
              "    </tr>\n",
              "  </tbody>\n",
              "</table>\n",
              "</div>"
            ],
            "text/plain": [
              "              Year  Battery (kwh)         Price\n",
              "count    86.000000      86.000000     86.000000\n",
              "mean   2015.290698      73.953488  46903.860465\n",
              "std       1.871560      15.283907  16020.102252\n",
              "min    2012.000000      60.000000  24499.000000\n",
              "25%    2013.250000      60.000000  34983.750000\n",
              "50%    2016.000000      70.000000  42989.500000\n",
              "75%    2017.000000      85.000000  57743.750000\n",
              "max    2019.000000     100.000000  92900.000000"
            ]
          },
          "metadata": {
            "tags": []
          },
          "execution_count": 2
        }
      ]
    },
    {
      "cell_type": "code",
      "metadata": {
        "id": "65OzlPJGkja-",
        "colab_type": "code",
        "colab": {
          "base_uri": "https://localhost:8080/",
          "height": 68
        },
        "outputId": "45f08f39-ca86-4228-efc2-0e21811ebcf3"
      },
      "source": [
        "df.columns"
      ],
      "execution_count": 3,
      "outputs": [
        {
          "output_type": "execute_result",
          "data": {
            "text/plain": [
              "Index(['Year', 'Car', 'Battery (kwh)', 'Ludacris Mode', 'All-Wheel Drive',\n",
              "       'Mileage', 'Price'],\n",
              "      dtype='object')"
            ]
          },
          "metadata": {
            "tags": []
          },
          "execution_count": 3
        }
      ]
    },
    {
      "cell_type": "code",
      "metadata": {
        "id": "YhCXDT_5km5e",
        "colab_type": "code",
        "colab": {
          "base_uri": "https://localhost:8080/",
          "height": 344
        },
        "outputId": "0832f75c-4072-4176-d529-2eb65adc746d"
      },
      "source": [
        "# Creating a visual for 'Price'\n",
        "\n",
        "import seaborn as sns\n",
        "import matplotlib.pyplot as plt\n",
        "\n",
        "sns.distplot(df['Price']);"
      ],
      "execution_count": 4,
      "outputs": [
        {
          "output_type": "stream",
          "text": [
            "/usr/local/lib/python3.6/dist-packages/statsmodels/tools/_testing.py:19: FutureWarning: pandas.util.testing is deprecated. Use the functions in the public API at pandas.testing instead.\n",
            "  import pandas.util.testing as tm\n"
          ],
          "name": "stderr"
        },
        {
          "output_type": "display_data",
          "data": {
            "image/png": "[encoded data removed]",
            "text/plain": [
              "<Figure size 432x288 with 1 Axes>"
            ]
          },
          "metadata": {
            "tags": [],
            "needs_background": "light"
          }
        }
      ]
    }
  ]
}